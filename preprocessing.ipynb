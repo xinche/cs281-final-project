{
 "cells": [
  {
   "cell_type": "code",
   "execution_count": 1,
   "metadata": {
    "collapsed": true
   },
   "outputs": [],
   "source": [
    "import glob, os\n",
    "import dicom_numpy\n",
    "import dicom\n",
    "import xml.etree.ElementTree as ET\n",
    "from matplotlib import pyplot as plt\n",
    "import numpy as np\n",
    "import collections"
   ]
  },
  {
   "cell_type": "code",
   "execution_count": 2,
   "metadata": {
    "collapsed": true
   },
   "outputs": [],
   "source": [
    "def extract_voxel_data(list_of_dicom_files):\n",
    "    datasets = [dicom.read_file(f) for f in list_of_dicom_files]\n",
    "    try:\n",
    "        voxel_ndarray, ijk_to_xyz, slices = dicom_numpy.combine_slices(datasets)\n",
    "    except dicom_numpy.DicomImportException as e:\n",
    "        # invalid DICOM data\n",
    "        raise\n",
    "    return voxel_ndarray, slices"
   ]
  },
  {
   "cell_type": "code",
   "execution_count": 3,
   "metadata": {
    "collapsed": true
   },
   "outputs": [],
   "source": [
    "def generate_labels_from_xml(xml, shape_to_return, k_to_z):\n",
    "    labeled = np.zeros(shape_to_return)\n",
    "    \n",
    "    tree = ET.parse(xml)\n",
    "    root = tree.getroot()\n",
    "    ns = {}\n",
    "    ns['main'] = 'http://www.nih.gov'\n",
    "    for nodule in root.findall('main:readingSession/main:unblindedReadNodule', ns):\n",
    "        for node in nodule.findall('main:roi',ns):\n",
    "            z = k_to_z[float(node.find('main:imageZposition',ns).text)]\n",
    "            row_list = collections.defaultdict(list)\n",
    "            for edge in node.findall('main:edgeMap',ns):\n",
    "                x,y = int(edge[0].text), int(edge[1].text)\n",
    "                labeled[x,y,z] = 1.\n",
    "                row_list[x] += [y]\n",
    "            # get first and last occurance of '1' in each row and fill indicies in between with all ones\n",
    "            for xs in row_list.keys():\n",
    "                labeled[xs,min(row_list[xs]):max(row_list[xs]),z].fill(1)\n",
    "        break\n",
    "    return labeled"
   ]
  },
  {
   "cell_type": "code",
   "execution_count": 4,
   "metadata": {
    "collapsed": true
   },
   "outputs": [],
   "source": [
    "primary = os.path.join(\".\",\"data\",\"LIDC-IDRI\")\n",
    "patient_folders = [os.path.join(primary,f) for f in os.listdir(primary) if os.path.isdir(os.path.join(primary, f))]"
   ]
  },
  {
   "cell_type": "code",
   "execution_count": 5,
   "metadata": {
    "collapsed": true
   },
   "outputs": [],
   "source": [
    "patient_dicoms_dir = []\n",
    "for sample in patient_folders:\n",
    "    len_list = [len(os.listdir(os.path.join(sample,fil,os.listdir(os.path.join(sample, fil))[0]))) for fil in os.listdir(sample)]\n",
    "    correct_file = os.path.join(sample, os.listdir(sample)[len_list.index(max(len_list))])\n",
    "    patient_dicoms_dir.append(os.path.join(correct_file,os.listdir(correct_file)[0]))"
   ]
  },
  {
   "cell_type": "code",
   "execution_count": 13,
   "metadata": {},
   "outputs": [],
   "source": [
    "from keras import layers, models"
   ]
  },
  {
   "cell_type": "code",
   "execution_count": 104,
   "metadata": {},
   "outputs": [
    {
     "name": "stdout",
     "output_type": "stream",
     "text": [
      "_________________________________________________________________\n",
      "Layer (type)                 Output Shape              Param #   \n",
      "=================================================================\n",
      "conv2d_47 (Conv2D)           (None, 510, 510, 10)      100       \n",
      "_________________________________________________________________\n",
      "max_pooling2d_24 (MaxPooling (None, 255, 255, 10)      0         \n",
      "_________________________________________________________________\n",
      "conv2d_transpose_30 (Conv2DT (None, 257, 257, 10)      910       \n",
      "_________________________________________________________________\n",
      "conv2d_transpose_31 (Conv2DT (None, 512, 512, 1)       655361    \n",
      "=================================================================\n",
      "Total params: 656,371\n",
      "Trainable params: 656,371\n",
      "Non-trainable params: 0\n",
      "_________________________________________________________________\n"
     ]
    }
   ],
   "source": [
    "model = models.Sequential()\n",
    "model.add(layers.Conv2D(10, (3, 3), activation='relu', input_shape=(512, 512, 1)))\n",
    "model.add(layers.MaxPooling2D((2, 2)))\n",
    "model.add(layers.Conv2DTranspose(10, (3, 3)))\n",
    "model.add(layers.Conv2DTranspose(1, (256, 256)))\n",
    "model.summary()"
   ]
  },
  {
   "cell_type": "code",
   "execution_count": 109,
   "metadata": {},
   "outputs": [],
   "source": [
    "model.compile(optimizer='rmsprop',\n",
    "              loss='mse',\n",
    "              metrics=['accuracy'])"
   ]
  },
  {
   "cell_type": "code",
   "execution_count": null,
   "metadata": {},
   "outputs": [],
   "source": [
    "for idx, sample in enumerate(patient_dicoms_dir):\n",
    "    PathDicom = sample\n",
    "    lstFilesDCM = []\n",
    "    for dirName, subdirList, fileList in os.walk(PathDicom):\n",
    "        for filename in fileList:\n",
    "            if \".dcm\" in filename.lower():  # check whether the file's DICOM\n",
    "                lstFilesDCM.append(os.path.join(dirName,filename))\n",
    "                \n",
    "    # data contains (a,b,c) ndarray, slices contains k coordinate of lstFilesDCM\n",
    "    data, slices  = extract_voxel_data(lstFilesDCM)\n",
    "    # k to z voxel mapping\n",
    "    k_to_z = {k:v for v,k in enumerate(sorted(slices))}\n",
    "    \n",
    "    label_xml = glob.glob(os.path.join(PathDicom,\"*.xml\"))\n",
    "    y = generate_labels_from_xml(label_xml[0], data.shape, k_to_z)\n",
    "    \n",
    "    data = data.T\n",
    "    y = y.T\n",
    "    \n",
    "    model.train_on_batch(data.reshape(data.shape[0], data.shape[1], data.shape[2], 1),y.reshape(y.shape[0], y.shape[1], y.shape[2], 1))\n",
    "    break"
   ]
  },
  {
   "cell_type": "code",
   "execution_count": 53,
   "metadata": {},
   "outputs": [
    {
     "data": {
      "text/plain": [
       "(512, 512, 1)"
      ]
     },
     "execution_count": 53,
     "metadata": {},
     "output_type": "execute_result"
    }
   ],
   "source": [
    ".shape"
   ]
  },
  {
   "cell_type": "code",
   "execution_count": 68,
   "metadata": {},
   "outputs": [
    {
     "data": {
      "image/png": "[encoded data removed]",
      "text/plain": [
       "<matplotlib.figure.Figure at 0x121e292d0>"
      ]
     },
     "metadata": {},
     "output_type": "display_data"
    },
    {
     "data": {
      "image/png": "[encoded data removed]",
      "text/plain": [
       "<matplotlib.figure.Figure at 0x11fcc2810>"
      ]
     },
     "metadata": {},
     "output_type": "display_data"
    }
   ],
   "source": [
    "plt.imshow(data.T[0,50:100,50:100])\n",
    "plt.show()\n",
    "plt.imshow(data[50:100,50:100,0])\n",
    "plt.show()"
   ]
  },
  {
   "cell_type": "code",
   "execution_count": null,
   "metadata": {
    "collapsed": true
   },
   "outputs": [],
   "source": []
  }
 ],
 "metadata": {
  "kernelspec": {
   "display_name": "Python 2",
   "language": "python",
   "name": "python2"
  },
  "language_info": {
   "codemirror_mode": {
    "name": "ipython",
    "version": 2
   },
   "file_extension": ".py",
   "mimetype": "text/x-python",
   "name": "python",
   "nbconvert_exporter": "python",
   "pygments_lexer": "ipython2",
   "version": "2.7.13"
  }
 },
 "nbformat": 4,
 "nbformat_minor": 2
}
