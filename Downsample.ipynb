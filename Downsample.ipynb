{
 "cells": [
  {
   "cell_type": "code",
   "execution_count": 1,
   "metadata": {
    "collapsed": true
   },
   "outputs": [],
   "source": [
    "import glob, os\n",
    "import dicom_numpy\n",
    "import dicom\n",
    "import xml.etree.ElementTree as ET\n",
    "from matplotlib import pyplot as plt\n",
    "import numpy as np\n",
    "import collections"
   ]
  },
  {
   "cell_type": "code",
   "execution_count": 2,
   "metadata": {
    "collapsed": true
   },
   "outputs": [],
   "source": [
    "def extract_voxel_data(list_of_dicom_files):\n",
    "    datasets = [dicom.read_file(f) for f in list_of_dicom_files]\n",
    "    try:\n",
    "        voxel_ndarray, ijk_to_xyz, slices = dicom_numpy.combine_slices(datasets)\n",
    "    except dicom_numpy.DicomImportException as e:\n",
    "        # invalid DICOM data\n",
    "        raise\n",
    "    return voxel_ndarray, slices"
   ]
  },
  {
   "cell_type": "code",
   "execution_count": 3,
   "metadata": {
    "collapsed": true
   },
   "outputs": [],
   "source": [
    "def generate_labels_from_xml(xml, shape_to_return, k_to_z):\n",
    "    labeled = np.zeros(shape_to_return)\n",
    "    \n",
    "    tree = ET.parse(xml)\n",
    "    root = tree.getroot()\n",
    "    ns = {}\n",
    "    ns['main'] = 'http://www.nih.gov'\n",
    "    for nodule in root.findall('main:readingSession/main:unblindedReadNodule', ns):\n",
    "        for node in nodule.findall('main:roi',ns):\n",
    "            z = k_to_z[float(node.find('main:imageZposition',ns).text)]\n",
    "            row_list = collections.defaultdict(list)\n",
    "            for edge in node.findall('main:edgeMap',ns):\n",
    "                x,y = int(edge[0].text), int(edge[1].text)\n",
    "                labeled[x,y,z] = 1.\n",
    "                row_list[x] += [y]\n",
    "            # get first and last occurance of '1' in each row and fill indicies in between with all ones\n",
    "            for xs in row_list.keys():\n",
    "                labeled[xs,min(row_list[xs]):max(row_list[xs]),z].fill(1)\n",
    "        break\n",
    "    return labeled"
   ]
  },
  {
   "cell_type": "code",
   "execution_count": 4,
   "metadata": {
    "collapsed": true
   },
   "outputs": [],
   "source": [
    "primary = os.path.join(\".\",\"data\",\"LIDC-IDRI\")\n",
    "patient_folders = [os.path.join(primary,f) for f in os.listdir(primary) if os.path.isdir(os.path.join(primary, f))]"
   ]
  },
  {
   "cell_type": "code",
   "execution_count": 5,
   "metadata": {
    "collapsed": true
   },
   "outputs": [],
   "source": [
    "patient_dicoms_dir = []\n",
    "for sample in patient_folders:\n",
    "    len_list = [len(os.listdir(os.path.join(sample,fil,os.listdir(os.path.join(sample, fil))[0]))) for fil in os.listdir(sample)]\n",
    "    correct_file = os.path.join(sample, os.listdir(sample)[len_list.index(max(len_list))])\n",
    "    patient_dicoms_dir.append(os.path.join(correct_file,os.listdir(correct_file)[0]))"
   ]
  },
  {
   "cell_type": "code",
   "execution_count": 163,
   "metadata": {},
   "outputs": [],
   "source": [
    "from keras import layers, models"
   ]
  },
  {
   "cell_type": "code",
   "execution_count": 164,
   "metadata": {},
   "outputs": [
    {
     "name": "stdout",
     "output_type": "stream",
     "text": [
      "_________________________________________________________________\n",
      "Layer (type)                 Output Shape              Param #   \n",
      "=================================================================\n",
      "conv2d_11 (Conv2D)           (None, 62, 62, 1)         10        \n",
      "_________________________________________________________________\n",
      "max_pooling2d_9 (MaxPooling2 (None, 31, 31, 1)         0         \n",
      "_________________________________________________________________\n",
      "conv2d_transpose_17 (Conv2DT (None, 32, 32, 1)         5         \n",
      "_________________________________________________________________\n",
      "conv2d_transpose_18 (Conv2DT (None, 64, 64, 1)         1090      \n",
      "=================================================================\n",
      "Total params: 1,105\n",
      "Trainable params: 1,105\n",
      "Non-trainable params: 0\n",
      "_________________________________________________________________\n"
     ]
    }
   ],
   "source": [
    "model = models.Sequential()\n",
    "model.add(layers.Conv2D(1, (3, 3), activation='relu', input_shape=(64, 64, 1)))\n",
    "model.add(layers.MaxPooling2D((2, 2)))\n",
    "model.add(layers.Conv2DTranspose(1, (2, 2)))\n",
    "model.add(layers.Conv2DTranspose(1, (33, 33)))\n",
    "model.summary()"
   ]
  },
  {
   "cell_type": "code",
   "execution_count": 165,
   "metadata": {
    "collapsed": true
   },
   "outputs": [],
   "source": [
    "model.compile(optimizer='rmsprop',\n",
    "              loss='binary_crossentropy',\n",
    "              metrics=['accuracy'])"
   ]
  },
  {
   "cell_type": "code",
   "execution_count": 9,
   "metadata": {
    "collapsed": true
   },
   "outputs": [],
   "source": [
    "from skimage.transform import resize\n",
    "from skimage import data\n",
    "import scipy"
   ]
  },
  {
   "cell_type": "code",
   "execution_count": 166,
   "metadata": {
    "collapsed": true
   },
   "outputs": [],
   "source": [
    "patient_dicoms_dir_train = patient_dicoms_dir[:510]\n",
    "patient_dicoms_dir_test = patient_dicoms_dir[510:]\n",
    "skips = []"
   ]
  },
  {
   "cell_type": "code",
   "execution_count": 148,
   "metadata": {},
   "outputs": [
    {
     "data": {
      "text/plain": [
       "510"
      ]
     },
     "execution_count": 148,
     "metadata": {},
     "output_type": "execute_result"
    }
   ],
   "source": [
    "len(patient_dicoms_dir_train)"
   ]
  },
  {
   "cell_type": "code",
   "execution_count": 149,
   "metadata": {},
   "outputs": [
    {
     "data": {
      "text/plain": [
       "500"
      ]
     },
     "execution_count": 149,
     "metadata": {},
     "output_type": "execute_result"
    }
   ],
   "source": [
    "len(patient_dicoms_dir_test)"
   ]
  },
  {
   "cell_type": "code",
   "execution_count": null,
   "metadata": {
    "scrolled": false
   },
   "outputs": [
    {
     "name": "stdout",
     "output_type": "stream",
     "text": [
      "133/133 [==============================] - 1s 7ms/step\n",
      "patient  0\n",
      "[1.2898786067962646, 0.051298901438713074]\n",
      "261/261 [==============================] - 2s 8ms/step\n",
      "patient  1\n",
      "[0.40132880210876465, 0.040565695613622665]\n",
      "140/140 [==============================] - 1s 7ms/step\n",
      "patient  2\n",
      "[0.24595382809638977, 0.04725341871380806]\n",
      "241/241 [==============================] - 2s 9ms/step\n",
      "patient  3\n",
      "[0.22039300203323364, 0.042695231735706329]\n",
      "133/133 [==============================] - 1s 7ms/step\n",
      "patient  4\n",
      "[0.19680818915367126, 0.043016478419303894]\n",
      "133/133 [==============================] - 1s 7ms/step\n",
      "patient  5\n",
      "[0.15156060457229614, 0.041788432747125626]\n",
      "145/145 [==============================] - 1s 7ms/step\n",
      "patient  6\n",
      "[0.11717034876346588, 0.043978985399007797]\n"
     ]
    }
   ],
   "source": [
    "for idx, sample in enumerate(patient_dicoms_dir_train):\n",
    "    PathDicom = sample\n",
    "    lstFilesDCM = []\n",
    "    for dirName, subdirList, fileList in os.walk(PathDicom):\n",
    "        for filename in fileList:\n",
    "            if \".dcm\" in filename.lower():  # check whether the file's DICOM\n",
    "                lstFilesDCM.append(os.path.join(dirName,filename))\n",
    "                \n",
    "    # data contains (a,b,c) ndarray, slices contains k coordinate of lstFilesDCM\n",
    "    try:\n",
    "        data, slices  = extract_voxel_data(lstFilesDCM)\n",
    "    except:\n",
    "        skips.append(idx)\n",
    "        continue\n",
    "    # 84\n",
    "    # k to z voxel mapping\n",
    "    k_to_z = {k:v for v,k in enumerate(sorted(slices))}\n",
    "    \n",
    "    label_xml = glob.glob(os.path.join(PathDicom,\"*.xml\"))\n",
    "    y = generate_labels_from_xml(label_xml[0], data.shape, k_to_z)\n",
    "    data_resized = np.zeros((64, 64, data.shape[2]))\n",
    "    y_resized = np.zeros((64, 64, data.shape[2]))\n",
    "    for i in range(data.shape[2]):\n",
    "        data_resized[:,:,i] = scipy.misc.imresize(data[:,:,i], (64, 64))\n",
    "        y_resized[:,:,i] = scipy.misc.imresize(y[:,:,i], (64, 64))\n",
    "        y_resized[:,:,i] = np.where(y_resized[:,:,i], 1, 0)\n",
    "    \n",
    "    data_resized = data_resized.T\n",
    "    y_resized = y_resized.T\n",
    "    model.train_on_batch(data_resized.reshape(data_resized.shape[0], data_resized.shape[1], data_resized.shape[2], 1), y_resized.reshape(y_resized.shape[0], y_resized.shape[1], y_resized.shape[2], 1))\n",
    "    loss = model.evaluate(data_resized.reshape(data_resized.shape[0], data_resized.shape[1], data_resized.shape[2], 1), y_resized.reshape(y_resized.shape[0], y_resized.shape[1], y_resized.shape[2], 1), data_resized.shape[0])\n",
    "    print 'patient ', idx\n",
    "    print loss"
   ]
  },
  {
   "cell_type": "code",
   "execution_count": 104,
   "metadata": {},
   "outputs": [
    {
     "data": {
      "image/png": "[encoded data removed]",
      "text/plain": [
       "<matplotlib.figure.Figure at 0x12786db50>"
      ]
     },
     "metadata": {},
     "output_type": "display_data"
    },
    {
     "data": {
      "image/png": "[encoded data removed]",
      "text/plain": [
       "<matplotlib.figure.Figure at 0x135222c10>"
      ]
     },
     "metadata": {},
     "output_type": "display_data"
    }
   ],
   "source": [
    "plt.imshow(data_resized[:,:,k_to_z[-122.5]])\n",
    "plt.show()\n",
    "plt.imshow(y_resized[:,:,k_to_z[-122.5]])\n",
    "plt.show()"
   ]
  },
  {
   "cell_type": "code",
   "execution_count": 93,
   "metadata": {},
   "outputs": [
    {
     "data": {
      "image/png": "[encoded data removed]",
      "text/plain": [
       "<matplotlib.figure.Figure at 0x12726c090>"
      ]
     },
     "metadata": {},
     "output_type": "display_data"
    },
    {
     "data": {
      "image/png": "[encoded data removed]",
      "text/plain": [
       "<matplotlib.figure.Figure at 0x126cea410>"
      ]
     },
     "metadata": {},
     "output_type": "display_data"
    }
   ],
   "source": [
    "plt.imshow(scipy.misc.imresize(data[:,:, k_to_z[-122.5]], (64, 64)), alpha=0.5)\n",
    "plt.show()\n",
    "plt.imshow(scipy.misc.imresize(y[:,:, k_to_z[-122.5]], (64, 64)))\n",
    "plt.show()"
   ]
  },
  {
   "cell_type": "code",
   "execution_count": 105,
   "metadata": {},
   "outputs": [
    {
     "data": {
      "image/png": "[encoded data removed]",
      "text/plain": [
       "<matplotlib.figure.Figure at 0x126c01410>"
      ]
     },
     "metadata": {},
     "output_type": "display_data"
    }
   ],
   "source": [
    "plt.imshow(scipy.misc.imresize(y_resized[:,:, k_to_z[-122.5]], (64, 64))[35:45, 42:50])\n",
    "plt.show()"
   ]
  },
  {
   "cell_type": "code",
   "execution_count": 95,
   "metadata": {},
   "outputs": [],
   "source": [
    "y_resize = scipy.misc.imresize(y[:,:, k_to_z[-122.5]], (64, 64))[35:45, 42:50]"
   ]
  },
  {
   "cell_type": "code",
   "execution_count": 107,
   "metadata": {},
   "outputs": [
    {
     "data": {
      "text/plain": [
       "array([[ 0.,  0.,  0.,  0.,  0.,  0.,  0.,  0.],\n",
       "       [ 0.,  0.,  0.,  1.,  1.,  1.,  0.,  0.],\n",
       "       [ 0.,  0.,  1.,  1.,  1.,  1.,  0.,  0.],\n",
       "       [ 0.,  1.,  1.,  1.,  1.,  1.,  1.,  0.],\n",
       "       [ 1.,  1.,  1.,  1.,  1.,  1.,  1.,  0.],\n",
       "       [ 0.,  1.,  1.,  1.,  1.,  1.,  1.,  0.],\n",
       "       [ 0.,  0.,  1.,  1.,  1.,  1.,  1.,  0.],\n",
       "       [ 0.,  0.,  0.,  0.,  0.,  0.,  0.,  0.],\n",
       "       [ 0.,  0.,  0.,  0.,  0.,  0.,  0.,  0.],\n",
       "       [ 0.,  0.,  0.,  0.,  0.,  0.,  0.,  0.]])"
      ]
     },
     "execution_count": 107,
     "metadata": {},
     "output_type": "execute_result"
    }
   ],
   "source": [
    "y_resized[:,:,k_to_z[-122.5]][35:45, 42:50]"
   ]
  },
  {
   "cell_type": "code",
   "execution_count": 97,
   "metadata": {},
   "outputs": [
    {
     "data": {
      "text/plain": [
       "array([[0, 0, 0, 0, 0, 0, 0, 0],\n",
       "       [0, 0, 0, 1, 1, 1, 0, 0],\n",
       "       [0, 0, 1, 1, 1, 1, 0, 0],\n",
       "       [0, 1, 1, 1, 1, 1, 1, 0],\n",
       "       [1, 1, 1, 1, 1, 1, 1, 0],\n",
       "       [0, 1, 1, 1, 1, 1, 1, 0],\n",
       "       [0, 0, 1, 1, 1, 1, 1, 0],\n",
       "       [0, 0, 0, 0, 0, 0, 0, 0],\n",
       "       [0, 0, 0, 0, 0, 0, 0, 0],\n",
       "       [0, 0, 0, 0, 0, 0, 0, 0]])"
      ]
     },
     "execution_count": 97,
     "metadata": {},
     "output_type": "execute_result"
    }
   ],
   "source": [
    "np.where(y_resize > 0, 1, 0)"
   ]
  },
  {
   "cell_type": "code",
   "execution_count": 128,
   "metadata": {},
   "outputs": [
    {
     "name": "stdout",
     "output_type": "stream",
     "text": [
      "_________________________________________________________________\n",
      "Layer (type)                 Output Shape              Param #   \n",
      "=================================================================\n",
      "conv2d_7 (Conv2D)            (None, 62, 62, 1)         10        \n",
      "_________________________________________________________________\n",
      "max_pooling2d_5 (MaxPooling2 (None, 31, 31, 1)         0         \n",
      "_________________________________________________________________\n",
      "conv2d_transpose_9 (Conv2DTr (None, 32, 32, 1)         5         \n",
      "_________________________________________________________________\n",
      "conv2d_transpose_10 (Conv2DT (None, 64, 64, 1)         1090      \n",
      "=================================================================\n",
      "Total params: 1,105\n",
      "Trainable params: 1,105\n",
      "Non-trainable params: 0\n",
      "_________________________________________________________________\n"
     ]
    }
   ],
   "source": [
    "model.summary()"
   ]
  },
  {
   "cell_type": "code",
   "execution_count": 137,
   "metadata": {},
   "outputs": [
    {
     "data": {
      "text/plain": [
       "510"
      ]
     },
     "execution_count": 137,
     "metadata": {},
     "output_type": "execute_result"
    }
   ],
   "source": []
  },
  {
   "cell_type": "code",
   "execution_count": 98,
   "metadata": {},
   "outputs": [
    {
     "data": {
      "text/plain": [
       "(512, 512, 133)"
      ]
     },
     "execution_count": 98,
     "metadata": {},
     "output_type": "execute_result"
    }
   ],
   "source": [
    "data.shape"
   ]
  },
  {
   "cell_type": "code",
   "execution_count": 89,
   "metadata": {},
   "outputs": [
    {
     "data": {
      "text/plain": [
       "(512, 512, 133)"
      ]
     },
     "execution_count": 89,
     "metadata": {},
     "output_type": "execute_result"
    }
   ],
   "source": [
    "y.shape"
   ]
  },
  {
   "cell_type": "code",
   "execution_count": 61,
   "metadata": {},
   "outputs": [
    {
     "data": {
      "text/plain": [
       "array([[  5.42101086e-20,   5.42101086e-20,   5.42101086e-20, ...,\n",
       "          5.42101086e-20,   5.42101086e-20,   5.42101086e-20],\n",
       "       [  5.42101086e-20,   5.42101086e-20,   5.42101086e-20, ...,\n",
       "          5.42101086e-20,   5.42101086e-20,   5.42101086e-20],\n",
       "       [  5.42101086e-20,   5.42101086e-20,   5.42101086e-20, ...,\n",
       "          5.42101086e-20,   5.42101086e-20,   5.42101086e-20],\n",
       "       ..., \n",
       "       [  5.42101086e-20,   5.42101086e-20,   5.42101086e-20, ...,\n",
       "          5.42101086e-20,   5.42101086e-20,   5.42101086e-20],\n",
       "       [  5.42101086e-20,   5.42101086e-20,   5.42101086e-20, ...,\n",
       "          5.42101086e-20,   5.42101086e-20,   5.42101086e-20],\n",
       "       [  5.42101086e-20,   5.42101086e-20,   5.42101086e-20, ...,\n",
       "          5.42101086e-20,   5.42101086e-20,   5.42101086e-20]])"
      ]
     },
     "execution_count": 61,
     "metadata": {},
     "output_type": "execute_result"
    }
   ],
   "source": [
    "resize(y[:,:,k_to_z[-122.5]].astype(int), (64, 64))"
   ]
  },
  {
   "cell_type": "code",
   "execution_count": 68,
   "metadata": {},
   "outputs": [
    {
     "data": {
      "image/png": "[encoded data removed]",
      "text/plain": [
       "<matplotlib.figure.Figure at 0x121e292d0>"
      ]
     },
     "metadata": {},
     "output_type": "display_data"
    },
    {
     "data": {
      "image/png": "[encoded data removed]",
      "text/plain": [
       "<matplotlib.figure.Figure at 0x11fcc2810>"
      ]
     },
     "metadata": {},
     "output_type": "display_data"
    }
   ],
   "source": [
    "plt.imshow(data.T[0,50:100,50:100])\n",
    "plt.show()\n",
    "plt.imshow(data[50:100,50:100,0])\n",
    "plt.show()"
   ]
  },
  {
   "cell_type": "code",
   "execution_count": 18,
   "metadata": {
    "collapsed": true
   },
   "outputs": [],
   "source": [
    "from PIL import Image"
   ]
  },
  {
   "cell_type": "code",
   "execution_count": 20,
   "metadata": {
    "collapsed": true
   },
   "outputs": [],
   "source": [
    "image = Image.open(\"image.jpeg\")"
   ]
  },
  {
   "cell_type": "code",
   "execution_count": 23,
   "metadata": {},
   "outputs": [
    {
     "data": {
      "image/png": "[encoded data removed]",
      "text/plain": [
       "<PIL.JpegImagePlugin.JpegImageFile image mode=RGB size=186x186 at 0x11CBE1490>"
      ]
     },
     "execution_count": 23,
     "metadata": {},
     "output_type": "execute_result"
    }
   ],
   "source": [
    "image"
   ]
  },
  {
   "cell_type": "code",
   "execution_count": 24,
   "metadata": {},
   "outputs": [
    {
     "data": {
      "text/plain": [
       "(186, 186)"
      ]
     },
     "execution_count": 24,
     "metadata": {},
     "output_type": "execute_result"
    }
   ],
   "source": [
    "image.size"
   ]
  },
  {
   "cell_type": "code",
   "execution_count": 27,
   "metadata": {},
   "outputs": [
    {
     "data": {
      "image/png": "[encoded data removed]",
      "text/plain": [
       "<PIL.Image.Image image mode=RGB size=100x100 at 0x11C4B10D0>"
      ]
     },
     "execution_count": 27,
     "metadata": {},
     "output_type": "execute_result"
    }
   ],
   "source": [
    "image.resize((100, 100))"
   ]
  },
  {
   "cell_type": "code",
   "execution_count": 28,
   "metadata": {
    "collapsed": true
   },
   "outputs": [],
   "source": []
  },
  {
   "cell_type": "code",
   "execution_count": null,
   "metadata": {
    "collapsed": true
   },
   "outputs": [],
   "source": []
  }
 ],
 "metadata": {
  "kernelspec": {
   "display_name": "Python 2",
   "language": "python",
   "name": "python2"
  },
  "language_info": {
   "codemirror_mode": {
    "name": "ipython",
    "version": 2
   },
   "file_extension": ".py",
   "mimetype": "text/x-python",
   "name": "python",
   "nbconvert_exporter": "python",
   "pygments_lexer": "ipython2",
   "version": "2.7.13"
  }
 },
 "nbformat": 4,
 "nbformat_minor": 2
}
