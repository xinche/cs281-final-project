{
 "cells": [
  {
   "cell_type": "markdown",
   "metadata": {
    "collapsed": true
   },
   "source": [
    "# Part 4: generate 20000-movie poster data to prepare for deep learning"
   ]
  },
  {
   "cell_type": "code",
   "execution_count": 3,
   "metadata": {
    "collapsed": true
   },
   "outputs": [],
   "source": [
    "import json\n",
    "import urllib\n",
    "import cStringIO\n",
    "from PIL import Image\n",
    "from imdb import IMDb\n",
    "import pandas as pd\n",
    "import numpy as np\n",
    "from pandas import Series, DataFrame\n",
    "%matplotlib inline\n",
    "import matplotlib.pyplot as plt\n",
    "import seaborn as sns\n",
    "import time\n",
    "import ast"
   ]
  },
  {
   "cell_type": "code",
   "execution_count": 3,
   "metadata": {
    "collapsed": false
   },
   "outputs": [
    {
     "name": "stdout",
     "output_type": "stream",
     "text": [
      "0\n",
      "100\n",
      "200\n",
      "300\n",
      "400\n",
      "500\n",
      "600\n",
      "700\n",
      "800\n",
      "900\n"
     ]
    }
   ],
   "source": [
    "# 20，000 dataset creation\n",
    "\n",
    "random1 = urllib.urlopen(\"https://api.themoviedb.org/3/discover/movie?api_key=2dc6c9f1d17bd39dcbaef83321e1b5a3&language=en-US&page=1\")\n",
    "random1_json = json.loads(random1.read())\n",
    "random_movie_data_json = random1_json[\"results\"]\n",
    "\n",
    "pages = range(2,1001)\n",
    "# np.random.shuffle(pages)\n",
    "# sampled_pages = pages[:500]\n",
    "\n",
    "\n",
    "# need to sleep in order to not return an error: limitation 40 requests per 10s\n",
    "for i in range(len(pages)):\n",
    "    if i%39 == 0:\n",
    "        time.sleep(7)\n",
    "\n",
    "    tmp_url = \"https://api.themoviedb.org/3/discover/movie?api_key=2dc6c9f1d17bd39dcbaef83321e1b5a3&language=en-US&page=\" + str(pages[i])\n",
    "    tmp_page = urllib.urlopen(tmp_url)\n",
    "    tmp_json = json.loads(tmp_page.read())\n",
    "    for movie in tmp_json[\"results\"]:\n",
    "        random_movie_data_json.append(movie)\n",
    "        \n",
    "    if i% 100 == 0:\n",
    "        print i\n"
   ]
  },
  {
   "cell_type": "code",
   "execution_count": 4,
   "metadata": {
    "collapsed": true
   },
   "outputs": [],
   "source": [
    "genre_ids, overview, popularity, poster_path, title, vote_average, vote_count, release_date, movie_id = [], [], [], [], [], [], [], [], []\n",
    "for movie in random_movie_data_json:\n",
    "    genre_ids.append(movie[\"genre_ids\"])\n",
    "    overview.append(movie[\"overview\"])\n",
    "    popularity.append(movie[\"popularity\"])\n",
    "    poster_path.append(movie[\"poster_path\"])\n",
    "    title.append(movie[\"title\"])\n",
    "    vote_average.append(movie[\"vote_average\"])\n",
    "    vote_count.append(movie[\"vote_count\"])\n",
    "    release_date.append(movie[\"release_date\"])\n",
    "    movie_id.append(movie[\"id\"])\n",
    "\n",
    "data = {'title': title, 'overview': overview, 'popularity': popularity, 'release_date': release_date, 'poster_path': poster_path, 'vote_average': vote_average,  'vote_count': vote_count, 'genre_ids': genre_ids, 'movie_id': movie_id}\n",
    "ran_df = pd.DataFrame(data = data)"
   ]
  },
  {
   "cell_type": "code",
   "execution_count": 7,
   "metadata": {
    "collapsed": false
   },
   "outputs": [],
   "source": [
    "# get genre list\n",
    "genre_list = urllib.urlopen(\"https://api.themoviedb.org/3/genre/movie/list?api_key=2dc6c9f1d17bd39dcbaef83321e1b5a3&language=en-US\")\n",
    "\n",
    "genre_list_json = json.loads(genre_list.read()) \n",
    "\n",
    "genre_lst = {}\n",
    "for i in genre_list_json['genres']:\n",
    "    genre_lst[i['id']] = str(i['name'])"
   ]
  },
  {
   "cell_type": "code",
   "execution_count": 12,
   "metadata": {
    "collapsed": false
   },
   "outputs": [
    {
     "data": {
      "text/plain": [
       "[10752,\n",
       " 80,\n",
       " 10402,\n",
       " 35,\n",
       " 36,\n",
       " 37,\n",
       " 53,\n",
       " 9648,\n",
       " 12,\n",
       " 10770,\n",
       " 14,\n",
       " 16,\n",
       " 18,\n",
       " 99,\n",
       " 878,\n",
       " 27,\n",
       " 28,\n",
       " 10749,\n",
       " 10751]"
      ]
     },
     "execution_count": 12,
     "metadata": {},
     "output_type": "execute_result"
    }
   ],
   "source": [
    "genre_lst.keys()"
   ]
  },
  {
   "cell_type": "code",
   "execution_count": 29,
   "metadata": {
    "collapsed": false
   },
   "outputs": [
    {
     "data": {
      "text/plain": [
       "20170316"
      ]
     },
     "execution_count": 29,
     "metadata": {},
     "output_type": "execute_result"
    }
   ],
   "source": [
    "a = str(movie_20000_df.release_date[0])\n",
    "f= a.split('-')\n",
    "b = datetime.date(int(f[0]), int(f[1]), int(f[2]))\n",
    "to_integer(b)"
   ]
  },
  {
   "cell_type": "code",
   "execution_count": 31,
   "metadata": {
    "collapsed": false
   },
   "outputs": [
    {
     "name": "stdout",
     "output_type": "stream",
     "text": [
      "\n",
      "\n",
      "\n",
      "\n",
      "\n",
      "\n",
      "\n",
      "\n",
      "\n",
      "\n",
      "\n",
      "\n",
      "\n",
      "\n",
      "\n",
      "\n",
      "\n",
      "\n",
      "\n",
      "\n",
      "\n",
      "\n",
      "\n",
      "\n",
      "\n",
      "\n"
     ]
    },
    {
     "name": "stderr",
     "output_type": "stream",
     "text": [
      "/anaconda/lib/python2.7/site-packages/ipykernel/__main__.py:11: SettingWithCopyWarning: \n",
      "A value is trying to be set on a copy of a slice from a DataFrame.\n",
      "Try using .loc[row_indexer,col_indexer] = value instead\n",
      "\n",
      "See the caveats in the documentation: http://pandas.pydata.org/pandas-docs/stable/indexing.html#indexing-view-versus-copy\n",
      "/anaconda/lib/python2.7/site-packages/ipykernel/__main__.py:29: SettingWithCopyWarning: \n",
      "A value is trying to be set on a copy of a slice from a DataFrame.\n",
      "Try using .loc[row_indexer,col_indexer] = value instead\n",
      "\n",
      "See the caveats in the documentation: http://pandas.pydata.org/pandas-docs/stable/indexing.html#indexing-view-versus-copy\n"
     ]
    }
   ],
   "source": [
    "# process new features\n",
    "movie_20000_df = ran_df.dropna()\n",
    "\n",
    "labels = []\n",
    "for i in movie_20000_df.genre_ids:\n",
    "    label_matrix = np.zeros(len(genre_lst.keys()), dtype=int)\n",
    "    for j in i:\n",
    "        if j in genre_lst.keys():\n",
    "            label_matrix[genre_lst.keys().index(j)] = 1\n",
    "    labels.append(label_matrix)\n",
    "movie_20000_df['labels'] = labels\n",
    "\n",
    "# convert dates\n",
    "import datetime\n",
    "def to_integer(dt_time):\n",
    "    return 10000*dt_time.year + 100*dt_time.month + dt_time.day\n",
    "\n",
    "int_dates =[]\n",
    "\n",
    "for i in movie_20000_df.release_date:\n",
    "    f = str(i).split('-')\n",
    "    try:\n",
    "        ff = (int(f[0]), int(f[1]), int(f[2]))\n",
    "    except:\n",
    "        print i\n",
    "    a = datetime.date(ff[0], ff[1], ff[2])\n",
    "    int_dates.append(to_integer(a))\n",
    "\n",
    "movie_20000_df['int_dates'] = int_dates"
   ]
  },
  {
   "cell_type": "code",
   "execution_count": 21,
   "metadata": {
    "collapsed": false
   },
   "outputs": [
    {
     "name": "stdout",
     "output_type": "stream",
     "text": [
      "Error line 1: <class '_csv.Error'> line contains NULL byte\n"
     ]
    },
    {
     "name": "stderr",
     "output_type": "stream",
     "text": [
      "/anaconda/lib/python2.7/site-packages/ipykernel/__main__.py:11: DeprecationWarning: BaseException.message has been deprecated as of Python 2.6\n"
     ]
    }
   ],
   "source": [
    "# to locate buffer overflow error\n",
    "import csv\n",
    "with open(r\"20000_movie_meta2.csv\", 'rb') as f:\n",
    "    reader = csv.reader(f)\n",
    "    linenumber = 1\n",
    "    try:\n",
    "        for row in reader:\n",
    "            linenumber += 1\n",
    "    except Exception as e:\n",
    "        print ((\"Error line %d: %s %s\" % (linenumber, str(type(e)), e.message)))\n",
    "# movie_20000_df.to_csv('20000_movie_meta.csv', encoding = 'utf-8')"
   ]
  },
  {
   "cell_type": "code",
   "execution_count": 70,
   "metadata": {
    "collapsed": false
   },
   "outputs": [],
   "source": [
    "# after correcting, we have a good csv file\n",
    "movie_20000_df = pd.read_csv('20000_movie_meta_good.csv')"
   ]
  },
  {
   "cell_type": "code",
   "execution_count": 71,
   "metadata": {
    "collapsed": false
   },
   "outputs": [],
   "source": [
    "# now we download all the posters and put them into a df\n",
    "# this process takes 2.5 hours\n",
    "imgs = []\n",
    "for i in range(len(movie_20000_df.poster_path[:10])):\n",
    "    if i%39 == 0:\n",
    "        # sleep\n",
    "        time.sleep(7)\n",
    "    try:\n",
    "        url = \"https://image.tmdb.org/t/p/w500\" + movie_20000_df.poster_path[i]\n",
    "    except:\n",
    "        print \"error\"\n",
    "        url = \"https://image.tmdb.org/t/p/w500\"+ '/ylXCdC106IKiarftHkcacasaAcb.jpg'\n",
    "    tmp_poster = cStringIO.StringIO(urllib.urlopen(url).read())\n",
    "    img = Image.open(tmp_poster) \n",
    "    imgs.append(img)\n",
    "#     if i %100 == 0:\n",
    "#         print i"
   ]
  },
  {
   "cell_type": "code",
   "execution_count": 72,
   "metadata": {
    "collapsed": false
   },
   "outputs": [
    {
     "data": {
      "text/plain": [
       "[<PIL.JpegImagePlugin.JpegImageFile image mode=RGB size=500x750 at 0x2C1277C90>,\n",
       " <PIL.JpegImagePlugin.JpegImageFile image mode=RGB size=500x750 at 0x2C1277A10>,\n",
       " <PIL.JpegImagePlugin.JpegImageFile image mode=RGB size=500x750 at 0x2C1277BD0>,\n",
       " <PIL.JpegImagePlugin.JpegImageFile image mode=RGB size=500x750 at 0x2C1277E10>,\n",
       " <PIL.JpegImagePlugin.JpegImageFile image mode=RGB size=500x750 at 0x2C1277E90>,\n",
       " <PIL.JpegImagePlugin.JpegImageFile image mode=RGB size=500x750 at 0x2C1277910>,\n",
       " <PIL.JpegImagePlugin.JpegImageFile image mode=RGB size=500x750 at 0x2C1277FD0>,\n",
       " <PIL.JpegImagePlugin.JpegImageFile image mode=RGB size=500x750 at 0x2C1277C50>,\n",
       " <PIL.JpegImagePlugin.JpegImageFile image mode=RGB size=500x750 at 0x2C1277DD0>,\n",
       " <PIL.JpegImagePlugin.JpegImageFile image mode=RGB size=500x750 at 0x2C1277C10>]"
      ]
     },
     "execution_count": 72,
     "metadata": {},
     "output_type": "execute_result"
    }
   ],
   "source": [
    "# take a peek\n",
    "imgs[:10]"
   ]
  },
  {
   "cell_type": "code",
   "execution_count": 73,
   "metadata": {
    "collapsed": false
   },
   "outputs": [],
   "source": [
    "# create rgb arrays for these images\n",
    "# 0 padding to those with less than 500 width\n",
    "# so now all rgb pixels will have the same format\n",
    "RGB = []\n",
    "for img in imgs:\n",
    "    tmp = img.load()\n",
    "    pixels = []\n",
    "    # crop if larger than 750\n",
    "    if (img.size[1] > 750):\n",
    "        for i in range(img.size[0]):\n",
    "            for j in range(750):\n",
    "                pixels.append(tmp[i,j])\n",
    "    else: \n",
    "        for i in range(img.size[0]):\n",
    "            for j in range(img.size[1]):\n",
    "                pixels.append(tmp[i,j])\n",
    "    # add 0 paddings if less than 750\n",
    "    if (img.size[1] < 750):\n",
    "        for p in range(img.size[0]):\n",
    "            for q in range(img.size[1], 750):\n",
    "                pixels.append((0,0,0))\n",
    "    RGB.append(pixels)    "
   ]
  },
  {
   "cell_type": "code",
   "execution_count": 76,
   "metadata": {
    "collapsed": false
   },
   "outputs": [
    {
     "data": {
      "text/html": [
       "<div>\n",
       "<table border=\"1\" class=\"dataframe\">\n",
       "  <thead>\n",
       "    <tr style=\"text-align: right;\">\n",
       "      <th></th>\n",
       "      <th>RGB</th>\n",
       "      <th>genre_ids</th>\n",
       "      <th>imgs</th>\n",
       "      <th>movie_id</th>\n",
       "    </tr>\n",
       "  </thead>\n",
       "  <tbody>\n",
       "    <tr>\n",
       "      <th>0</th>\n",
       "      <td>[(12, 32, 65), (11, 31, 64), (21, 41, 74), (28...</td>\n",
       "      <td>[14, 10402, 10749]</td>\n",
       "      <td>&lt;PIL.JpegImagePlugin.JpegImageFile image mode=...</td>\n",
       "      <td>321612</td>\n",
       "    </tr>\n",
       "    <tr>\n",
       "      <th>1</th>\n",
       "      <td>[(7, 9, 8), (5, 7, 6), (7, 9, 8), (7, 9, 8), (...</td>\n",
       "      <td>[28, 18, 878]</td>\n",
       "      <td>&lt;PIL.JpegImagePlugin.JpegImageFile image mode=...</td>\n",
       "      <td>263115</td>\n",
       "    </tr>\n",
       "    <tr>\n",
       "      <th>2</th>\n",
       "      <td>[(92, 79, 107), (89, 76, 104), (95, 80, 109), ...</td>\n",
       "      <td>[16, 35, 18, 10751, 10402]</td>\n",
       "      <td>&lt;PIL.JpegImagePlugin.JpegImageFile image mode=...</td>\n",
       "      <td>335797</td>\n",
       "    </tr>\n",
       "    <tr>\n",
       "      <th>3</th>\n",
       "      <td>[(140, 51, 17), (135, 46, 12), (133, 44, 10), ...</td>\n",
       "      <td>[28, 12, 14]</td>\n",
       "      <td>&lt;PIL.JpegImagePlugin.JpegImageFile image mode=...</td>\n",
       "      <td>293167</td>\n",
       "    </tr>\n",
       "    <tr>\n",
       "      <th>4</th>\n",
       "      <td>[(255, 255, 255), (255, 255, 255), (255, 255, ...</td>\n",
       "      <td>[28, 80, 53]</td>\n",
       "      <td>&lt;PIL.JpegImagePlugin.JpegImageFile image mode=...</td>\n",
       "      <td>337339</td>\n",
       "    </tr>\n",
       "  </tbody>\n",
       "</table>\n",
       "</div>"
      ],
      "text/plain": [
       "                                                 RGB  \\\n",
       "0  [(12, 32, 65), (11, 31, 64), (21, 41, 74), (28...   \n",
       "1  [(7, 9, 8), (5, 7, 6), (7, 9, 8), (7, 9, 8), (...   \n",
       "2  [(92, 79, 107), (89, 76, 104), (95, 80, 109), ...   \n",
       "3  [(140, 51, 17), (135, 46, 12), (133, 44, 10), ...   \n",
       "4  [(255, 255, 255), (255, 255, 255), (255, 255, ...   \n",
       "\n",
       "                    genre_ids  \\\n",
       "0          [14, 10402, 10749]   \n",
       "1               [28, 18, 878]   \n",
       "2  [16, 35, 18, 10751, 10402]   \n",
       "3                [28, 12, 14]   \n",
       "4                [28, 80, 53]   \n",
       "\n",
       "                                                imgs  movie_id  \n",
       "0  <PIL.JpegImagePlugin.JpegImageFile image mode=...    321612  \n",
       "1  <PIL.JpegImagePlugin.JpegImageFile image mode=...    263115  \n",
       "2  <PIL.JpegImagePlugin.JpegImageFile image mode=...    335797  \n",
       "3  <PIL.JpegImagePlugin.JpegImageFile image mode=...    293167  \n",
       "4  <PIL.JpegImagePlugin.JpegImageFile image mode=...    337339  "
      ]
     },
     "execution_count": 76,
     "metadata": {},
     "output_type": "execute_result"
    }
   ],
   "source": [
    "data_img = {'movie_id': movie_20000_df.movie_id,'genre_ids': movie_20000_df.genre_ids, 'RGB': RGB, 'imgs':imgs}\n",
    "img_df = pd.DataFrame(data = data_img)\n",
    "img_df.head()"
   ]
  },
  {
   "cell_type": "code",
   "execution_count": 77,
   "metadata": {
    "collapsed": true
   },
   "outputs": [],
   "source": [
    "# produce a csv\n",
    "img_df.to_csv('imgs.csv')"
   ]
  },
  {
   "cell_type": "code",
   "execution_count": null,
   "metadata": {
    "collapsed": true
   },
   "outputs": [],
   "source": []
  }
 ],
 "metadata": {
  "kernelspec": {
   "display_name": "Python [Root]",
   "language": "python",
   "name": "Python [Root]"
  },
  "language_info": {
   "codemirror_mode": {
    "name": "ipython",
    "version": 2
   },
   "file_extension": ".py",
   "mimetype": "text/x-python",
   "name": "python",
   "nbconvert_exporter": "python",
   "pygments_lexer": "ipython2",
   "version": "2.7.12"
  }
 },
 "nbformat": 4,
 "nbformat_minor": 0
}
