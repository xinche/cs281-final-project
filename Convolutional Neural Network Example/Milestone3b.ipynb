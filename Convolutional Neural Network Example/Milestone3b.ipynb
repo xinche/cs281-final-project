{
 "cells": [
  {
   "cell_type": "markdown",
   "metadata": {},
   "source": [
    "# Part 2 Multi-label Classification Using Random Forest"
   ]
  },
  {
   "cell_type": "code",
   "execution_count": 3,
   "metadata": {
    "collapsed": false
   },
   "outputs": [
    {
     "data": {
      "text/html": [
       "<div>\n",
       "<table border=\"1\" class=\"dataframe\">\n",
       "  <thead>\n",
       "    <tr style=\"text-align: right;\">\n",
       "      <th></th>\n",
       "      <th>genre_ids</th>\n",
       "      <th>movie_id</th>\n",
       "      <th>overview</th>\n",
       "      <th>popularity</th>\n",
       "      <th>poster_path</th>\n",
       "      <th>release_date</th>\n",
       "      <th>title</th>\n",
       "      <th>vote_average</th>\n",
       "      <th>vote_count</th>\n",
       "      <th>labels</th>\n",
       "    </tr>\n",
       "  </thead>\n",
       "  <tbody>\n",
       "    <tr>\n",
       "      <th>0</th>\n",
       "      <td>[14, 10402, 10749]</td>\n",
       "      <td>321612</td>\n",
       "      <td>A live-action adaptation of Disney's version o...</td>\n",
       "      <td>149.542760</td>\n",
       "      <td>/tWqifoYuwLETmmasnGHO7xBjEtt.jpg</td>\n",
       "      <td>2017-03-16</td>\n",
       "      <td>Beauty and the Beast</td>\n",
       "      <td>6.9</td>\n",
       "      <td>1770</td>\n",
       "      <td>[0, 0, 1, 0, 0, 0, 0, 0, 0, 0, 1, 0, 0, 0, 0, ...</td>\n",
       "    </tr>\n",
       "    <tr>\n",
       "      <th>1</th>\n",
       "      <td>[28, 18, 878]</td>\n",
       "      <td>263115</td>\n",
       "      <td>In the near future, a weary Logan cares for an...</td>\n",
       "      <td>79.627847</td>\n",
       "      <td>/45Y1G5FEgttPAwjTYic6czC9xCn.jpg</td>\n",
       "      <td>2017-02-28</td>\n",
       "      <td>Logan</td>\n",
       "      <td>7.5</td>\n",
       "      <td>2429</td>\n",
       "      <td>[0, 0, 0, 0, 0, 0, 0, 0, 0, 0, 0, 0, 1, 0, 1, ...</td>\n",
       "    </tr>\n",
       "    <tr>\n",
       "      <th>2</th>\n",
       "      <td>[16, 35, 18, 10751, 10402]</td>\n",
       "      <td>335797</td>\n",
       "      <td>A koala named Buster recruits his best friend ...</td>\n",
       "      <td>77.930498</td>\n",
       "      <td>/s9ye87pvq2IaDvjv9x4IOXVjvA7.jpg</td>\n",
       "      <td>2016-11-23</td>\n",
       "      <td>Sing</td>\n",
       "      <td>6.7</td>\n",
       "      <td>1170</td>\n",
       "      <td>[0, 0, 1, 1, 0, 0, 0, 0, 0, 0, 0, 1, 1, 0, 0, ...</td>\n",
       "    </tr>\n",
       "    <tr>\n",
       "      <th>3</th>\n",
       "      <td>[28, 12, 14]</td>\n",
       "      <td>293167</td>\n",
       "      <td>Explore the mysterious and dangerous home of t...</td>\n",
       "      <td>61.012215</td>\n",
       "      <td>/5wBbdNb0NdGiZQJYoKHRv6VbiOr.jpg</td>\n",
       "      <td>2017-03-08</td>\n",
       "      <td>Kong: Skull Island</td>\n",
       "      <td>6.0</td>\n",
       "      <td>1203</td>\n",
       "      <td>[0, 0, 0, 0, 0, 0, 0, 0, 1, 0, 1, 0, 0, 0, 0, ...</td>\n",
       "    </tr>\n",
       "    <tr>\n",
       "      <th>4</th>\n",
       "      <td>[28, 80, 53]</td>\n",
       "      <td>337339</td>\n",
       "      <td>When a mysterious woman seduces Dom into the w...</td>\n",
       "      <td>60.623332</td>\n",
       "      <td>/iNpz2DgTsTMPaDRZq2tnbqjL2vF.jpg</td>\n",
       "      <td>2017-04-12</td>\n",
       "      <td>The Fate of the Furious</td>\n",
       "      <td>7.2</td>\n",
       "      <td>482</td>\n",
       "      <td>[0, 1, 0, 0, 0, 0, 1, 0, 0, 0, 0, 0, 0, 0, 0, ...</td>\n",
       "    </tr>\n",
       "  </tbody>\n",
       "</table>\n",
       "</div>"
      ],
      "text/plain": [
       "                    genre_ids  movie_id  \\\n",
       "0          [14, 10402, 10749]    321612   \n",
       "1               [28, 18, 878]    263115   \n",
       "2  [16, 35, 18, 10751, 10402]    335797   \n",
       "3                [28, 12, 14]    293167   \n",
       "4                [28, 80, 53]    337339   \n",
       "\n",
       "                                            overview  popularity  \\\n",
       "0  A live-action adaptation of Disney's version o...  149.542760   \n",
       "1  In the near future, a weary Logan cares for an...   79.627847   \n",
       "2  A koala named Buster recruits his best friend ...   77.930498   \n",
       "3  Explore the mysterious and dangerous home of t...   61.012215   \n",
       "4  When a mysterious woman seduces Dom into the w...   60.623332   \n",
       "\n",
       "                        poster_path release_date                    title  \\\n",
       "0  /tWqifoYuwLETmmasnGHO7xBjEtt.jpg   2017-03-16     Beauty and the Beast   \n",
       "1  /45Y1G5FEgttPAwjTYic6czC9xCn.jpg   2017-02-28                    Logan   \n",
       "2  /s9ye87pvq2IaDvjv9x4IOXVjvA7.jpg   2016-11-23                     Sing   \n",
       "3  /5wBbdNb0NdGiZQJYoKHRv6VbiOr.jpg   2017-03-08       Kong: Skull Island   \n",
       "4  /iNpz2DgTsTMPaDRZq2tnbqjL2vF.jpg   2017-04-12  The Fate of the Furious   \n",
       "\n",
       "   vote_average  vote_count                                             labels  \n",
       "0           6.9        1770  [0, 0, 1, 0, 0, 0, 0, 0, 0, 0, 1, 0, 0, 0, 0, ...  \n",
       "1           7.5        2429  [0, 0, 0, 0, 0, 0, 0, 0, 0, 0, 0, 0, 1, 0, 1, ...  \n",
       "2           6.7        1170  [0, 0, 1, 1, 0, 0, 0, 0, 0, 0, 0, 1, 1, 0, 0, ...  \n",
       "3           6.0        1203  [0, 0, 0, 0, 0, 0, 0, 0, 1, 0, 1, 0, 0, 0, 0, ...  \n",
       "4           7.2         482  [0, 1, 0, 0, 0, 0, 1, 0, 0, 0, 0, 0, 0, 0, 0, ...  "
      ]
     },
     "execution_count": 3,
     "metadata": {},
     "output_type": "execute_result"
    }
   ],
   "source": [
    "# import data from milestone 2 \n",
    "import ast\n",
    "# contains info about 5060 movies \n",
    "movie_df = pd.read_csv('dataset1.csv')\n",
    "\n",
    "# to locate buffer overflow error\n",
    "# import csv\n",
    "# with open(r\"dataset1.csv\", 'rb') as f:\n",
    "#     reader = csv.reader(f)\n",
    "#     linenumber = 1\n",
    "#     try:\n",
    "#         for row in reader:\n",
    "#             linenumber += 1\n",
    "#     except Exception as e:\n",
    "#         print ((\"Error line %d: %s %s\" % (linenumber, str(type(e)), e.message)))\n",
    "\n",
    "movie_df = movie_df.drop('Unnamed: 0', axis=1)\n",
    "movie_df = movie_df.dropna()\n",
    "labels = []\n",
    "\n",
    "# convert 19 genre ids into a label matrix so that \n",
    "# for each movie, the genre is a 1*19 matrix, 1 meaning it's in the genre\n",
    "for i in movie_df.genre_ids:\n",
    "    label_matrix = np.zeros(len(genre_lst.keys()), dtype=int)\n",
    "    for j in ast.literal_eval(i):\n",
    "        if j in genre_lst.keys():\n",
    "            label_matrix[genre_lst.keys().index(j)] = 1\n",
    "    labels.append(label_matrix)\n",
    "movie_df['labels'] = labels\n",
    "len(movie_df)\n",
    "movie_df.head()"
   ]
  },
  {
   "cell_type": "code",
   "execution_count": 4,
   "metadata": {
    "collapsed": false
   },
   "outputs": [
    {
     "name": "stdout",
     "output_type": "stream",
     "text": [
      "After deleting malformed dates, the data size is 4902\n",
      "The final sample size is 4902\n"
     ]
    }
   ],
   "source": [
    "import datetime\n",
    "\n",
    "# function that converts dates to ints\n",
    "def to_integer(dt_time):\n",
    "    return 10000*dt_time.year + 100*dt_time.month + dt_time.day\n",
    "  \n",
    "# drop rows with malformed release date information\n",
    "malformed_index = []\n",
    "for i in range(0, len(movie_df)):\n",
    "    f = movie_df.iloc[i].release_date.split('-')\n",
    "    if len(f) != 3:\n",
    "        malformed_index.append(i)  \n",
    "movie_df = movie_df.drop(movie_df.index[malformed_index])\n",
    "\n",
    "# new dataset length\n",
    "print 'After deleting malformed dates, the data size is', len(movie_df)\n",
    "\n",
    "int_dates = []\n",
    "# convert datetime into integers \n",
    "for i in range(0, len(movie_df)):\n",
    "    f = movie_df.iloc[i].release_date.split('-')\n",
    "    a = datetime.date(int(f[0]), int(f[1]), int(f[2]))\n",
    "    int_dates.append(to_integer(a))\n",
    "\n",
    "movie_df['int_dates'] = int_dates\n",
    "\n",
    "# final sample size \n",
    "print 'The final sample size is', len(movie_df) \n",
    "\n",
    "# write to csv\n",
    "movie_df.to_csv('tmdb_metadata.csv', encoding = 'utf-8')   "
   ]
  },
  {
   "cell_type": "markdown",
   "metadata": {},
   "source": [
    "In the following cell, we combine results from text processing with with the numerical predictors. Please refer to TextVectorizing.ipynb to see how we generated genre_words_pca."
   ]
  },
  {
   "cell_type": "code",
   "execution_count": 5,
   "metadata": {
    "collapsed": false
   },
   "outputs": [
    {
     "data": {
      "text/html": [
       "<div>\n",
       "<table border=\"1\" class=\"dataframe\">\n",
       "  <thead>\n",
       "    <tr style=\"text-align: right;\">\n",
       "      <th></th>\n",
       "      <th>Unnamed: 0</th>\n",
       "      <th>0</th>\n",
       "      <th>1</th>\n",
       "      <th>2</th>\n",
       "      <th>3</th>\n",
       "      <th>4</th>\n",
       "      <th>5</th>\n",
       "      <th>6</th>\n",
       "      <th>7</th>\n",
       "      <th>8</th>\n",
       "      <th>...</th>\n",
       "      <th>294</th>\n",
       "      <th>295</th>\n",
       "      <th>296</th>\n",
       "      <th>297</th>\n",
       "      <th>298</th>\n",
       "      <th>299</th>\n",
       "      <th>popularity</th>\n",
       "      <th>int_dates</th>\n",
       "      <th>vote_average</th>\n",
       "      <th>vote_count</th>\n",
       "    </tr>\n",
       "  </thead>\n",
       "  <tbody>\n",
       "    <tr>\n",
       "      <th>25</th>\n",
       "      <td>25</td>\n",
       "      <td>0.368577</td>\n",
       "      <td>0.840917</td>\n",
       "      <td>0.272582</td>\n",
       "      <td>-0.435428</td>\n",
       "      <td>-0.135311</td>\n",
       "      <td>0.059444</td>\n",
       "      <td>-0.251731</td>\n",
       "      <td>-0.171425</td>\n",
       "      <td>0.123310</td>\n",
       "      <td>...</td>\n",
       "      <td>-0.189341</td>\n",
       "      <td>-0.063305</td>\n",
       "      <td>-0.401295</td>\n",
       "      <td>-0.198236</td>\n",
       "      <td>0.209343</td>\n",
       "      <td>-0.243798</td>\n",
       "      <td>1.321019</td>\n",
       "      <td>20051020</td>\n",
       "      <td>5.3</td>\n",
       "      <td>2</td>\n",
       "    </tr>\n",
       "    <tr>\n",
       "      <th>26</th>\n",
       "      <td>26</td>\n",
       "      <td>0.764552</td>\n",
       "      <td>-1.377594</td>\n",
       "      <td>-0.142785</td>\n",
       "      <td>-0.615930</td>\n",
       "      <td>-0.332792</td>\n",
       "      <td>0.233683</td>\n",
       "      <td>-0.465798</td>\n",
       "      <td>0.304202</td>\n",
       "      <td>-0.122500</td>\n",
       "      <td>...</td>\n",
       "      <td>0.031852</td>\n",
       "      <td>-0.009340</td>\n",
       "      <td>-0.000459</td>\n",
       "      <td>0.019383</td>\n",
       "      <td>0.012910</td>\n",
       "      <td>0.034607</td>\n",
       "      <td>1.321017</td>\n",
       "      <td>19731006</td>\n",
       "      <td>6.2</td>\n",
       "      <td>12</td>\n",
       "    </tr>\n",
       "    <tr>\n",
       "      <th>27</th>\n",
       "      <td>27</td>\n",
       "      <td>1.553418</td>\n",
       "      <td>-1.984979</td>\n",
       "      <td>-0.104861</td>\n",
       "      <td>-0.828822</td>\n",
       "      <td>-0.502757</td>\n",
       "      <td>0.166974</td>\n",
       "      <td>-0.700010</td>\n",
       "      <td>0.355295</td>\n",
       "      <td>-0.188343</td>\n",
       "      <td>...</td>\n",
       "      <td>0.084633</td>\n",
       "      <td>0.049862</td>\n",
       "      <td>-0.062283</td>\n",
       "      <td>0.013205</td>\n",
       "      <td>-0.050039</td>\n",
       "      <td>-0.131973</td>\n",
       "      <td>1.320991</td>\n",
       "      <td>19871225</td>\n",
       "      <td>6.7</td>\n",
       "      <td>29</td>\n",
       "    </tr>\n",
       "    <tr>\n",
       "      <th>28</th>\n",
       "      <td>28</td>\n",
       "      <td>0.358079</td>\n",
       "      <td>0.923268</td>\n",
       "      <td>1.380883</td>\n",
       "      <td>-0.058584</td>\n",
       "      <td>-0.866399</td>\n",
       "      <td>-0.163135</td>\n",
       "      <td>0.157153</td>\n",
       "      <td>0.391488</td>\n",
       "      <td>-0.266951</td>\n",
       "      <td>...</td>\n",
       "      <td>0.003047</td>\n",
       "      <td>0.010992</td>\n",
       "      <td>0.047739</td>\n",
       "      <td>-0.007493</td>\n",
       "      <td>-0.041105</td>\n",
       "      <td>0.013070</td>\n",
       "      <td>1.320988</td>\n",
       "      <td>20170407</td>\n",
       "      <td>0.0</td>\n",
       "      <td>0</td>\n",
       "    </tr>\n",
       "    <tr>\n",
       "      <th>29</th>\n",
       "      <td>29</td>\n",
       "      <td>0.088955</td>\n",
       "      <td>0.560351</td>\n",
       "      <td>1.049459</td>\n",
       "      <td>0.146033</td>\n",
       "      <td>-0.171834</td>\n",
       "      <td>-0.101794</td>\n",
       "      <td>-0.307366</td>\n",
       "      <td>0.142916</td>\n",
       "      <td>-0.346554</td>\n",
       "      <td>...</td>\n",
       "      <td>-0.045943</td>\n",
       "      <td>-0.022995</td>\n",
       "      <td>-0.022300</td>\n",
       "      <td>-0.087274</td>\n",
       "      <td>0.019076</td>\n",
       "      <td>0.031588</td>\n",
       "      <td>1.320942</td>\n",
       "      <td>20150313</td>\n",
       "      <td>3.2</td>\n",
       "      <td>3</td>\n",
       "    </tr>\n",
       "  </tbody>\n",
       "</table>\n",
       "<p>5 rows × 305 columns</p>\n",
       "</div>"
      ],
      "text/plain": [
       "    Unnamed: 0         0         1         2         3         4         5  \\\n",
       "25          25  0.368577  0.840917  0.272582 -0.435428 -0.135311  0.059444   \n",
       "26          26  0.764552 -1.377594 -0.142785 -0.615930 -0.332792  0.233683   \n",
       "27          27  1.553418 -1.984979 -0.104861 -0.828822 -0.502757  0.166974   \n",
       "28          28  0.358079  0.923268  1.380883 -0.058584 -0.866399 -0.163135   \n",
       "29          29  0.088955  0.560351  1.049459  0.146033 -0.171834 -0.101794   \n",
       "\n",
       "           6         7         8     ...           294       295       296  \\\n",
       "25 -0.251731 -0.171425  0.123310     ...     -0.189341 -0.063305 -0.401295   \n",
       "26 -0.465798  0.304202 -0.122500     ...      0.031852 -0.009340 -0.000459   \n",
       "27 -0.700010  0.355295 -0.188343     ...      0.084633  0.049862 -0.062283   \n",
       "28  0.157153  0.391488 -0.266951     ...      0.003047  0.010992  0.047739   \n",
       "29 -0.307366  0.142916 -0.346554     ...     -0.045943 -0.022995 -0.022300   \n",
       "\n",
       "         297       298       299  popularity  int_dates  vote_average  \\\n",
       "25 -0.198236  0.209343 -0.243798    1.321019   20051020           5.3   \n",
       "26  0.019383  0.012910  0.034607    1.321017   19731006           6.2   \n",
       "27  0.013205 -0.050039 -0.131973    1.320991   19871225           6.7   \n",
       "28 -0.007493 -0.041105  0.013070    1.320988   20170407           0.0   \n",
       "29 -0.087274  0.019076  0.031588    1.320942   20150313           3.2   \n",
       "\n",
       "    vote_count  \n",
       "25           2  \n",
       "26          12  \n",
       "27          29  \n",
       "28           0  \n",
       "29           3  \n",
       "\n",
       "[5 rows x 305 columns]"
      ]
     },
     "execution_count": 5,
     "metadata": {},
     "output_type": "execute_result"
    }
   ],
   "source": [
    "# import dataset \n",
    "metadata = pd.read_csv('tmdb_metadata.csv')\n",
    "\n",
    "# import results of text processing after pca, 90% variance explained\n",
    "df_a = pd.read_csv('genre_words_pca.csv')\n",
    "\n",
    "# select other predictors \n",
    "df_b = metadata[['popularity','int_dates','vote_average','vote_count']] \n",
    "\n",
    "# create dataframe\n",
    "treedata_X = pd.concat([df_a, df_b], axis=1)\n",
    "\n",
    "treedata_y = np.asarray(metadata['labels'].tolist())\n",
    "\n",
    "# examine the data \n",
    "treedata_X[25:30]"
   ]
  },
  {
   "cell_type": "markdown",
   "metadata": {},
   "source": [
    "This dataset now has over 300 predictors and 4900 entries. We conduct pca on the data to enable faster tuning. "
   ]
  },
  {
   "cell_type": "code",
   "execution_count": 6,
   "metadata": {
    "collapsed": false
   },
   "outputs": [
    {
     "name": "stdout",
     "output_type": "stream",
     "text": [
      "explained variance: 0.901185187595\n"
     ]
    }
   ],
   "source": [
    "# create tree_data_pca\n",
    "from sklearn.decomposition import PCA\n",
    "from sklearn import preprocessing\n",
    "\n",
    "tree_x = treedata_X.values \n",
    "tree_x_scaled = preprocessing.scale(tree_x)\n",
    "pca = PCA(n_components = 273)\n",
    "pca.fit(tree_x_scaled)\n",
    "tree_x_pca = pca.transform(tree_x_scaled)\n",
    "print \"explained variance: \" + str(sum(pca.explained_variance_ratio_))"
   ]
  },
  {
   "cell_type": "markdown",
   "metadata": {},
   "source": [
    "In this section, we first try a decision tree classifier to establish the baseline, then tunes a random forest classifier to improve the prediction accuracy. Meanwhile, we also develop a different matric to measure prediction accuracy, which we are calling \"mean match ratio.\""
   ]
  },
  {
   "cell_type": "code",
   "execution_count": 8,
   "metadata": {
    "collapsed": false
   },
   "outputs": [
    {
     "name": "stdout",
     "output_type": "stream",
     "text": [
      "Automatically created module for IPython interactive environment\n",
      "The proportion of complete matches in training set is 1.0\n",
      "The proportion of complete matches in test set is 0.0331463539011\n"
     ]
    }
   ],
   "source": [
    "# establish baseline decision tree accuracy \n",
    "# http://scikit-learn.org/stable/modules/tree.html#tree 1.10.3. Multi-output problems\n",
    "print(__doc__)\n",
    "import numpy as np\n",
    "import matplotlib.pyplot as plt\n",
    "from sklearn.tree import DecisionTreeClassifier\n",
    "from sklearn.cross_validation import train_test_split\n",
    "\n",
    "# train test split \n",
    "X_train, X_test, y_train, y_test = train_test_split(treedata_X, treedata_y, test_size=0.4, random_state=42)\n",
    "\n",
    "# fit model\n",
    "class_1 = DecisionTreeClassifier()\n",
    "class_1.fit(X_train, y_train)\n",
    "\n",
    "# predict \n",
    "pred_train = class_1.predict(X_train)\n",
    "pred_test = class_1.predict(X_test)\n",
    "\n",
    "# metric 1 - complete match percentage via .score\n",
    "print 'The proportion of complete matches in training set is', class_1.score(X_train, y_train)\n",
    "print 'The proportion of complete matches in test set is', class_1.score(X_test, y_test)"
   ]
  },
  {
   "cell_type": "markdown",
   "metadata": {},
   "source": [
    "Above are the baseline results from decision tree with 305 predictors. "
   ]
  },
  {
   "cell_type": "code",
   "execution_count": 12,
   "metadata": {
    "collapsed": false
   },
   "outputs": [
    {
     "name": "stdout",
     "output_type": "stream",
     "text": [
      " The proportion of complete matches in training set is 1.0\n",
      "The proportion of complete matches in test set is 0.0280469148394\n"
     ]
    }
   ],
   "source": [
    "# with pca\n",
    "# train test split \n",
    "X_pca_train, X_pca_test, y_train, y_test = train_test_split(tree_x_pca, treedata_y, test_size=0.4, random_state=42)\n",
    "\n",
    "# fit model \n",
    "class_pca = DecisionTreeClassifier()\n",
    "class_pca.fit(X_pca_train, y_train)\n",
    "\n",
    "# predict \n",
    "pred_train_pca = class_pca.predict(X_pca_train)\n",
    "pred_test_pca = class_pca.predict(X_pca_test)\n",
    "\n",
    "# metric 1 - complete match percentage via .score\n",
    "print 'The proportion of complete matches in training set is', class_pca.score(X_pca_train, y_train)\n",
    "print 'The proportion of complete matches in test set is', class_pca.score(X_pca_test, y_test)"
   ]
  },
  {
   "cell_type": "markdown",
   "metadata": {},
   "source": [
    "Above are the baseline results from decision tree with 273 principle components. "
   ]
  },
  {
   "cell_type": "markdown",
   "metadata": {},
   "source": [
    "\"Score\" is very harsh because it requires the prediction to be correct for all labels to be correct for an entry. We develop a different metric for correctness as follows. "
   ]
  },
  {
   "cell_type": "code",
   "execution_count": 17,
   "metadata": {
    "collapsed": false
   },
   "outputs": [
    {
     "name": "stdout",
     "output_type": "stream",
     "text": [
      "For example, when true genre labels are [0, 0, 0, 0, 0, 0, 1, 1, 0, 0, 0, 0, 0, 0, 0, 1, 0, 0, 0]\n",
      "And predicted genre labels are [0, 0, 0, 1, 0, 0, 0, 0, 0, 0, 0, 0, 0, 0, 0, 0, 0, 1, 0]\n",
      "The ratio of matching labels are 0.824561403509\n",
      "For the baseline model, the mean and median match ratios are"
     ]
    },
    {
     "data": {
      "image/png": "[encoded data removed]",
      "text/plain": [
       "<matplotlib.figure.Figure at 0x117562dd0>"
      ]
     },
     "metadata": {},
     "output_type": "display_data"
    },
    {
     "name": "stdout",
     "output_type": "stream",
     "text": [
      " (0.81818263148948356, 0.82456140350877194)\n"
     ]
    }
   ],
   "source": [
    "import difflib\n",
    "import numpy as np\n",
    "import matplotlib.mlab as mlab\n",
    "import matplotlib.pyplot as plt\n",
    "\n",
    "# metric 2 - match ratio \n",
    "def compute_match_ratio(y_true, y_pred):\n",
    "    # prediction accuracies according to similarity ratio \n",
    "    test_similarity = []\n",
    "    for i in range(0,len(y_true)):\n",
    "        sm = difflib.SequenceMatcher(None, a = y_true[i], b = y_pred[i])\n",
    "        # ratio() returns a measure of the sequences’ similarity as a float in the range [0, 1].\n",
    "        # Where T is the total number of elements in both sequences, and M is the number of matches, \n",
    "        # this is 2.0*M / T. 1.0 if the sequences are identical, and 0.0 if they have nothing in common.\n",
    "        test_similarity.append(sm.ratio())\n",
    "        \n",
    "    # the histogram of the data (optional)\n",
    "    n, bins, patches = plt.hist(test_similarity, facecolor='green', alpha=0.75)\n",
    "    plt.xlabel('Accuracies')\n",
    "    plt.ylabel('Frequencies')\n",
    "    plt.axvline(x = np.mean(test_similarity))\n",
    "    plt.grid(True)\n",
    "    plt.show()\n",
    "\n",
    "    # metric 2: mean and median test similarity\n",
    "    return np.mean(test_similarity), np.median(test_similarity);\n",
    "\n",
    "# single line example \n",
    "print 'For example, when true genre labels are', y_test[0]\n",
    "print 'And predicted genre labels are', pred_test[0]\n",
    "print 'The ratio of matching labels are', difflib.SequenceMatcher(None,y_test[0], pred_test[0]).ratio()\n",
    "print 'For the baseline model, the mean and median match ratios are', compute_match_ratio(y_test, pred_test)"
   ]
  },
  {
   "cell_type": "markdown",
   "metadata": {},
   "source": [
    "Therefore, the baseline accuracy of our decision tree models are as follows:\n",
    "- The proportion of complete matches in training set is 1.0. It's definitely overfitting.\n",
    "- The proportion of complete matches in test set is 0.0407955124936\n",
    "- The mean match ratio is 82%, which means out of all predicted labels, 82% matched true values. We understand that since most values are zeros, the match ratio will always seem high. \n",
    "- The median match ratio is 82.5%. \n",
    "\n",
    "## Tune Random Forest Classifier \n",
    "\n",
    "Three important parameters of sklearn's Random Forest module that influence the model fit are the number of trees, n_estimators, the number of predictors to consider for each split, max_features, and the maximum depth of the trees, max_depth. Below, we tune two of these parameters, n_estimators and max_depth, using 5-fold cross-validation on a 2D grid of parameter values. "
   ]
  },
  {
   "cell_type": "code",
   "execution_count": 14,
   "metadata": {
    "collapsed": true
   },
   "outputs": [],
   "source": [
    "from sklearn import tree\n",
    "from sklearn import ensemble\n",
    "from sklearn.cross_validation import KFold"
   ]
  },
  {
   "cell_type": "code",
   "execution_count": 23,
   "metadata": {
    "collapsed": false
   },
   "outputs": [
    {
     "name": "stdout",
     "output_type": "stream",
     "text": [
      " 5-fold cross validation:\n",
      "Trees: 60 Depth: 2 Score: 0.089758959611\n",
      "Trees: 60 Depth: 3 Score: 0.0904461614867\n",
      "Trees: 60 Depth: 4 Score: 0.0975820888627\n",
      "Trees: 60 Depth: 5 Score: 0.0975815113821\n",
      "Trees: 60 Depth: 6 Score: 0.102687594562\n",
      "Trees: 60 Depth: 7 Score: 0.100308952104\n",
      "Trees: 60 Depth: 8 Score: 0.110505526489\n",
      "Trees: 60 Depth: 9 Score: 0.101328205306\n",
      "Trees: 80 Depth: 2 Score: 0.0901071803934\n",
      "Trees: 80 Depth: 3 Score: 0.0911247011538\n",
      "Trees: 80 Depth: 4 Score: 0.0952051788457\n",
      "Trees: 80 Depth: 5 Score: 0.0982716006606\n",
      "Trees: 80 Depth: 6 Score: 0.0989403231581\n",
      "Trees: 80 Depth: 7 Score: 0.100647933197\n",
      "Trees: 80 Depth: 8 Score: 0.104727833408\n",
      "Trees: 80 Depth: 9 Score: 0.105069124424\n",
      "Trees: 100 Depth: 2 Score: 0.0901077578739\n",
      "Trees: 100 Depth: 3 Score: 0.0907868750217\n",
      "Trees: 100 Depth: 4 Score: 0.0897716641835\n",
      "Trees: 100 Depth: 5 Score: 0.0935085409376\n",
      "Trees: 100 Depth: 6 Score: 0.10031530439\n",
      "Trees: 100 Depth: 7 Score: 0.104049871222\n",
      "Trees: 100 Depth: 8 Score: 0.102007899934\n",
      "Trees: 100 Depth: 9 Score: 0.107446611922\n"
     ]
    }
   ],
   "source": [
    "# Parameters for tuning random forest \n",
    "n_trees = np.arange(60, 120, 20)  # Trees and depth are explored on an exponentially growing space,\n",
    "depths = np.arange(2, 10)  # since it is assumed that trees and depth will add accuracy in a decaying fashion.\n",
    "\n",
    "# To keep track of the best model\n",
    "best_score = 0\n",
    "\n",
    "# Run grid search for model with 5-fold cross validation\n",
    "print '5-fold cross validation:'\n",
    "\n",
    "for trees in n_trees:\n",
    "    for depth in depths:        \n",
    "        # Cross validation for every experiment\n",
    "        k_folds = KFold(X_train.shape[0], n_folds=5, shuffle=True)\n",
    "        scores = []\n",
    "        for train_indices, validation_indices in k_folds:\n",
    "            # Generate training data\n",
    "            x_train_cv = X_train.iloc[train_indices]\n",
    "            y_train_cv = y_train[train_indices]\n",
    "            # Generate validation data\n",
    "            x_validate = X_train.iloc[validation_indices]\n",
    "            y_validate = y_train[validation_indices]\n",
    "            \n",
    "            # Fit random forest on training data\n",
    "            model = ensemble.RandomForestClassifier(n_estimators=trees, max_depth=depth)\n",
    "            model.fit(x_train_cv, y_train_cv)\n",
    "            # Score on validation data\n",
    "            scores += [model.score(x_validate, y_validate)]\n",
    "        \n",
    "        # Record and report accuracy\n",
    "        average_score = np.mean(scores)\n",
    "        print \"Trees:\", trees, \"Depth:\", depth, \"Score:\", average_score\n",
    "        \n",
    "        # Update our record of the best parameters see so far\n",
    "        if average_score > best_score:\n",
    "            best_score = average_score\n",
    "            best_trees = trees\n",
    "            best_depth = depth"
   ]
  },
  {
   "cell_type": "code",
   "execution_count": 24,
   "metadata": {
    "collapsed": false
   },
   "outputs": [
    {
     "name": "stdout",
     "output_type": "stream",
     "text": [
      "For the tuned random forest model\n",
      "Chosen number of trees, depth: 60 , 8\n",
      "Test accuracy: 0.10249872514\n"
     ]
    },
    {
     "data": {
      "image/png": "[encoded data removed]",
      "text/plain": [
       "<matplotlib.figure.Figure at 0x10979e110>"
      ]
     },
     "metadata": {},
     "output_type": "display_data"
    },
    {
     "name": "stdout",
     "output_type": "stream",
     "text": [
      "(0.85321667248181643, 0.84210526315789469)\n",
      "Above are the mean and median match ratios on the test set\n",
      "Train accuracy: 0.31655899354\n"
     ]
    },
    {
     "data": {
      "image/png": "[encoded data removed]",
      "text/plain": [
       "<matplotlib.figure.Figure at 0x120bada50>"
      ]
     },
     "metadata": {},
     "output_type": "display_data"
    },
    {
     "name": "stdout",
     "output_type": "stream",
     "text": [
      "(0.88762624003054214, 0.94736842105263153)\n",
      "Above are the mean and median match ratios on the train set\n"
     ]
    }
   ],
   "source": [
    "# without pca \n",
    "print 'For the tuned random forest model'\n",
    "print 'Chosen number of trees, depth:', best_trees, ',', best_depth\n",
    "print 'Test accuracy:', model.score(X_test, y_test)\n",
    "pred_test_tuned = model.predict(X_test)\n",
    "print compute_match_ratio(y_test, pred_test_tuned)\n",
    "print 'Above are the mean and median match ratios on the test set'\n",
    "\n",
    "print 'Train accuracy:', model.score(X_train, y_train)\n",
    "pred_train_tuned = model.predict(X_train)\n",
    "print compute_match_ratio(y_train, pred_train_tuned)\n",
    "print 'Above are the mean and median match ratios on the train set'"
   ]
  },
  {
   "cell_type": "code",
   "execution_count": 19,
   "metadata": {
    "collapsed": false
   },
   "outputs": [
    {
     "name": "stdout",
     "output_type": "stream",
     "text": [
      "5-fold cross validation:\n",
      "Trees: 80 Depth: 10 Score: 0.092480625527\n",
      "Trees: 80 Depth: 11 Score: 0.0931608976358\n",
      "Trees: 80 Depth: 12 Score: 0.0935068084959\n",
      "Trees: 80 Depth: 13 Score: 0.103363824307\n",
      "Trees: 80 Depth: 14 Score: 0.09792511232\n",
      "Trees: 100 Depth: 10 Score: 0.0969023942344\n",
      "Trees: 100 Depth: 11 Score: 0.0907834101382\n",
      "Trees: 100 Depth: 12 Score: 0.103029463059\n",
      "Trees: 100 Depth: 13 Score: 0.0928276913482\n",
      "Trees: 100 Depth: 14 Score: 0.0996269475532\n",
      "Trees: 120 Depth: 10 Score: 0.0941789958768\n",
      "Trees: 120 Depth: 11 Score: 0.0941859256436\n",
      "Trees: 120 Depth: 12 Score: 0.0952011364818\n",
      "Trees: 120 Depth: 13 Score: 0.0982698682189\n",
      "Trees: 120 Depth: 14 Score: 0.0986082718317\n"
     ]
    }
   ],
   "source": [
    "# with pca\n",
    "# Parameters for tuning random forest \n",
    "n_trees = np.arange(80, 140, 20)  # Trees and depth are explored on an exponentially growing space,\n",
    "depths = np.arange(10, 15)  # since it is assumed that trees and depth will add accuracy in a decaying fashion.\n",
    "\n",
    "# To keep track of the best model\n",
    "best_score = 0\n",
    "\n",
    "# Run grid search for model with 5-fold cross validation\n",
    "print '5-fold cross validation:'\n",
    "\n",
    "for trees in n_trees:\n",
    "    for depth in depths:        \n",
    "        # Cross validation for every experiment\n",
    "        k_folds = KFold(X_pca_train.shape[0], n_folds=5, shuffle=True)\n",
    "        scores = []\n",
    "        for train_indices, validation_indices in k_folds:\n",
    "            # Generate training data\n",
    "            x_train_cv = X_pca_train[train_indices]\n",
    "            y_train_cv = y_train[train_indices]\n",
    "            # Generate validation data\n",
    "            x_validate = X_pca_train[validation_indices]\n",
    "            y_validate = y_train[validation_indices]\n",
    "            \n",
    "            # Fit random forest on training data\n",
    "            model = ensemble.RandomForestClassifier(n_estimators=trees, max_depth=depth)\n",
    "            model.fit(x_train_cv, y_train_cv)\n",
    "            # Score on validation data\n",
    "            scores += [model.score(x_validate, y_validate)]\n",
    "        \n",
    "        # Record and report accuracy\n",
    "        average_score = np.mean(scores)\n",
    "        print \"Trees:\", trees, \"Depth:\", depth, \"Score:\", average_score\n",
    "        \n",
    "        # Update our record of the best parameters see so far\n",
    "        if average_score > best_score:\n",
    "            best_score = average_score\n",
    "            best_trees = trees\n",
    "            best_depth = depth\n"
   ]
  },
  {
   "cell_type": "code",
   "execution_count": 21,
   "metadata": {
    "collapsed": false
   },
   "outputs": [
    {
     "name": "stdout",
     "output_type": "stream",
     "text": [
      "For the tuned random forest model\n",
      "Chosen number of trees, depth: 120 , 14\n",
      "Test accuracy: 0.0963793982662\n"
     ]
    },
    {
     "data": {
      "image/png": "[encoded data removed]",
      "text/plain": [
       "<matplotlib.figure.Figure at 0x103c05210>"
      ]
     },
     "metadata": {},
     "output_type": "display_data"
    },
    {
     "name": "stdout",
     "output_type": "stream",
     "text": [
      "(0.84976336813476827, 0.84210526315789469)\n",
      "Above are the mean and median match ratios on the test set\n",
      "Train accuracy: 0.662699761986\n"
     ]
    },
    {
     "data": {
      "image/png": "[encoded data removed]",
      "text/plain": [
       "<matplotlib.figure.Figure at 0x117b7d3d0>"
      ]
     },
     "metadata": {},
     "output_type": "display_data"
    },
    {
     "name": "stdout",
     "output_type": "stream",
     "text": [
      "(0.94168351855497301, 1.0)\n",
      "Above are the mean and median match ratios on the train set\n"
     ]
    }
   ],
   "source": [
    "# with pca\n",
    "best_pca_trees = 120\n",
    "best_pca_depth = 14\n",
    "\n",
    "print 'For the tuned random forest model'\n",
    "print 'Chosen number of trees, depth:', best_pca_trees, ',', best_pca_depth\n",
    "print 'Test accuracy:', model.score(X_pca_test, y_test)\n",
    "pred_test_tuned = model.predict(X_pca_test)\n",
    "print compute_match_ratio(y_test, pred_test_tuned)\n",
    "print 'Above are the mean and median match ratios on the test set'\n",
    "\n",
    "print 'Train accuracy:', model.score(X_pca_train, y_train)\n",
    "pred_train_tuned = model.predict(X_pca_train)\n",
    "print compute_match_ratio(y_train, pred_train_tuned)\n",
    "print 'Above are the mean and median match ratios on the train set'"
   ]
  }
 ],
 "metadata": {
  "kernelspec": {
   "display_name": "Python [Root]",
   "language": "python",
   "name": "Python [Root]"
  },
  "language_info": {
   "codemirror_mode": {
    "name": "ipython",
    "version": 2
   },
   "file_extension": ".py",
   "mimetype": "text/x-python",
   "name": "python",
   "nbconvert_exporter": "python",
   "pygments_lexer": "ipython2",
   "version": "2.7.12"
  }
 },
 "nbformat": 4,
 "nbformat_minor": 0
}
