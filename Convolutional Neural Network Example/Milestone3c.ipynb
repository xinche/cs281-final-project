{
 "cells": [
  {
   "cell_type": "markdown",
   "metadata": {
    "deletable": true,
    "editable": true
   },
   "source": [
    "### Milestone 3: Traditional statistical and machine learning methods, due Wednesday, April 19, 2017\n",
    "\n",
    "Think about how you would address the genre prediction problem with traditional statistical or machine learning methods. This includes everything you learned about modeling in this course before the deep learning part. Implement your ideas and compare different classifiers. Report your results and discuss what challenges you faced and how you overcame them. What works and what does not? If there are parts that do not work as expected, make sure to discuss briefly what you think is the cause and how you would address this if you would have more time and resources. \n",
    "\n",
    "You do not necessarily need to use the movie posters for this step, but even without a background in computer vision, there are very simple features you can extract from the posters to help guide a traditional machine learning model. Think about the PCA lecture for example, or how to use clustering to extract color information. In addition to considering the movie posters it would be worthwhile to have a look at the metadata that IMDb provides. \n",
    "\n",
    "You could use Spark and the [ML library](https://spark.apache.org/docs/latest/ml-features.html#word2vec) to build your model features from the data. This may be especially beneficial if you use additional data, e.g., in text form.\n",
    "\n",
    "You also need to think about how you are going to evaluate your classifier. Which metrics or scores will you report to show how good the performance is?\n",
    "\n",
    "The notebook to submit this week should at least include:\n",
    "\n",
    "- Detailed description and implementation of two different models\n",
    "- Description of your performance metrics\n",
    "- Careful performance evaluations for both models\n",
    "- Visualizations of the metrics for performance evaluation\n",
    "- Discussion of the differences between the models, their strengths, weaknesses, etc. \n",
    "- Discussion of the performances you achieved, and how you might be able to improve them in the future\n",
    "\n",
    "#### Preliminary Peer Assessment\n",
    "\n",
    "It is important to provide positive feedback to people who truly worked hard for the good of the team and to also make suggestions to those you perceived not to be working as effectively on team tasks. We ask you to provide an honest assessment of the contributions of the members of your team, including yourself. The feedback you provide should reflect your judgment of each team member’s:\n",
    "\n",
    "- Preparation – were they prepared during team meetings?\n",
    "- Contribution – did they contribute productively to the team discussion and work?\n",
    "- Respect for others’ ideas – did they encourage others to contribute their ideas?\n",
    "- Flexibility – were they flexible when disagreements occurred?\n",
    "\n",
    "Your teammate’s assessment of your contributions and the accuracy of your self-assessment will be considered as part of your overall project score.\n",
    "\n",
    "Preliminary Peer Assessment: [https://goo.gl/forms/WOYC7pwRCSU0yV3l1](https://goo.gl/forms/WOYC7pwRCSU0yV3l1)"
   ]
  },
  {
   "cell_type": "code",
   "execution_count": 1,
   "metadata": {
    "collapsed": false
   },
   "outputs": [
    {
     "name": "stderr",
     "output_type": "stream",
     "text": [
      "/Users/Xincheng/anaconda/lib/python2.7/site-packages/sklearn/cross_validation.py:44: DeprecationWarning: This module was deprecated in version 0.18 in favor of the model_selection module into which all the refactored classes and functions are moved. Also note that the interface of the new CV iterators are different from that of this module. This module will be removed in 0.20.\n",
      "  \"This module will be removed in 0.20.\", DeprecationWarning)\n"
     ]
    }
   ],
   "source": [
    "import json\n",
    "import urllib\n",
    "import cStringIO\n",
    "from PIL import Image\n",
    "from imdb import IMDb\n",
    "import pandas as pd\n",
    "import numpy as np\n",
    "from pandas import Series, DataFrame\n",
    "%matplotlib inline\n",
    "import matplotlib.pyplot as plt\n",
    "import seaborn as sns\n",
    "import time\n",
    "import ast\n",
    "from sklearn.multiclass import OneVsRestClassifier\n",
    "from sklearn.linear_model import LogisticRegression\n",
    "from sklearn.ensemble import RandomForestClassifier\n",
    "from sklearn.svm import SVC\n",
    "from sklearn.model_selection import train_test_split\n",
    "from sklearn.cross_validation import KFold\n",
    "import difflib"
   ]
  },
  {
   "cell_type": "code",
   "execution_count": 2,
   "metadata": {
    "collapsed": false
   },
   "outputs": [
    {
     "name": "stdout",
     "output_type": "stream",
     "text": [
      "Sing ['Animation', 'Comedy', 'Drama', 'Family', 'Music']\n",
      "Split ['Horror', 'Thriller']\n",
      "Fantastic Beasts and Where to Find Them ['Adventure', 'Action', 'Fantasy']\n",
      "Rogue One: A Star Wars Story ['Action', 'Drama', 'Science Fiction', 'War']\n",
      "Arrival ['Thriller', 'Drama', 'Science Fiction', 'Mystery']\n",
      "Deadpool ['Action', 'Adventure', 'Comedy', 'Romance']\n",
      "Finding Dory ['Adventure', 'Animation', 'Comedy', 'Family']\n",
      "Boyka: Undisputed IV ['Action']\n",
      "La La Land ['Comedy', 'Drama', 'Music', 'Romance']\n",
      "Doctor Strange ['Action', 'Adventure', 'Fantasy', 'Science Fiction']\n",
      "Tomorrow Everything Starts ['Drama', 'Comedy']\n",
      "Captain America: Civil War ['Adventure', 'Action', 'Science Fiction']\n",
      "Lion ['Drama']\n",
      "The Great Wall ['Action', 'Adventure', 'Fantasy']\n",
      "X-Men: Apocalypse ['Action', 'Adventure', 'Fantasy', 'Science Fiction']\n",
      "Hidden Figures ['History', 'Drama']\n",
      "Hacksaw Ridge ['Drama', 'History', 'War']\n",
      "Underworld: Blood Wars ['Action', 'Horror']\n",
      "Batman v Superman: Dawn of Justice ['Action', 'Adventure', 'Fantasy']\n",
      "Assassin's Creed ['Action', 'Adventure', 'Fantasy', 'Science Fiction']\n"
     ]
    }
   ],
   "source": [
    "# part 3 - top 10 most popular movies of 2016 from TMDb and their genre\n",
    "top_2016_1 = urllib.urlopen(\"https://api.themoviedb.org/3/discover/movie?api_key=2dc6c9f1d17bd39dcbaef83321e1b5a3&sort_by=popularity.desc&include_adult=false&include_video=false&page=1&primary_release_year=2016\")\n",
    "top_2016_1_json = json.loads(top_2016_1.read())\n",
    "\n",
    "# get genre list\n",
    "genre_list = urllib.urlopen(\"https://api.themoviedb.org/3/genre/movie/list?api_key=2dc6c9f1d17bd39dcbaef83321e1b5a3&language=en-US\")\n",
    "\n",
    "genre_list_json = json.loads(genre_list.read()) \n",
    "\n",
    "genre_lst = {}\n",
    "for i in genre_list_json['genres']:\n",
    "    genre_lst[i['id']] = str(i['name'])\n",
    "    \n",
    "# top most popular movies of 2016\n",
    "top_2016_1 = urllib.urlopen(\"https://api.themoviedb.org/3/discover/movie?api_key=2dc6c9f1d17bd39dcbaef83321e1b5a3&sort_by=popularity.desc&include_adult=false&include_video=false&page=1&primary_release_year=2016\")\n",
    "top_2016_1_json = json.loads(top_2016_1.read())\n",
    "\n",
    "\n",
    "for i in top_2016_1_json['results']:\n",
    "    print i['title'], [genre_lst[j] for j in i['genre_ids']]\n"
   ]
  },
  {
   "cell_type": "code",
   "execution_count": 3,
   "metadata": {
    "collapsed": false
   },
   "outputs": [],
   "source": [
    "import ast\n",
    "\n",
    "movie_2000_df = pd.read_csv('tmdb_metadata.csv')\n",
    "movie_2000_df = movie_2000_df.drop('Unnamed: 0', axis=1)\n",
    "\n",
    "movie_2000_df = movie_2000_df.dropna()\n",
    "\n",
    "labels = []\n",
    "for i in movie_2000_df.genre_ids:\n",
    "    label_matrix = np.zeros(len(genre_lst.keys()), dtype=int)\n",
    "    for j in ast.literal_eval(i):\n",
    "        if j in genre_lst.keys():\n",
    "            label_matrix[genre_lst.keys().index(j)] = 1\n",
    "    labels.append(label_matrix)\n",
    "movie_2000_df['labels'] = labels\n",
    "\n",
    "# convert dates\n",
    "import datetime\n",
    "def to_integer(dt_time):\n",
    "    return 10000*dt_time.year + 100*dt_time.month + dt_time.day\n",
    "\n",
    "int_dates =[]\n",
    "\n",
    "for i in movie_2000_df.release_date:\n",
    "    f = i.split('-')\n",
    "    a = datetime.date(int(f[0]), int(f[1]), int(f[2]))\n",
    "    int_dates.append(to_integer(a))\n",
    "\n",
    "movie_2000_df['int_dates'] = int_dates"
   ]
  },
  {
   "cell_type": "code",
   "execution_count": 4,
   "metadata": {
    "collapsed": false
   },
   "outputs": [],
   "source": [
    "data = movie_2000_df.drop(['genre_ids', 'movie_id', 'poster_path', 'overview', 'title', 'release_date'], axis = 1)"
   ]
  },
  {
   "cell_type": "code",
   "execution_count": 5,
   "metadata": {
    "collapsed": false
   },
   "outputs": [],
   "source": [
    "words = pd.read_csv('genre_words_pca.csv').drop('Unnamed: 0', axis = 1)"
   ]
  },
  {
   "cell_type": "code",
   "execution_count": 6,
   "metadata": {
    "collapsed": false
   },
   "outputs": [],
   "source": [
    "x = pd.concat([data[['popularity', 'vote_average', 'vote_count', 'int_dates']], words], axis = 1)\n",
    "y = data['labels']\n",
    "y = np.asarray(y.tolist())\n",
    "x_train, x_test, y_train, y_test = train_test_split(x, y, test_size = 0.3)"
   ]
  },
  {
   "cell_type": "code",
   "execution_count": 7,
   "metadata": {
    "collapsed": true
   },
   "outputs": [],
   "source": [
    "# metric 2 - match ratio \n",
    "def compute_match_ratio(y_true, y_pred):\n",
    "    # prediction accuracies according to similarity ratio \n",
    "    test_similarity = []\n",
    "    for i in range(0,len(y_true)):\n",
    "        sm = difflib.SequenceMatcher(None, a = y_true[i], b = y_pred[i])\n",
    "        # ratio() returns a measure of the sequences’ similarity as a float in the range [0, 1].\n",
    "        # Where T is the total number of elements in both sequences, and M is the number of matches, \n",
    "        # this is 2.0*M / T. 1.0 if the sequences are identical, and 0.0 if they have nothing in common.\n",
    "        test_similarity.append(sm.ratio())\n",
    "        \n",
    "    # the histogram of the data (optional)\n",
    "    n, bins, patches = plt.hist(test_similarity, facecolor='green', alpha=0.75)\n",
    "    plt.xlabel('Accuracies')\n",
    "    plt.ylabel('Frequencies')\n",
    "    plt.axvline(x = np.mean(test_similarity))\n",
    "    plt.grid(True)\n",
    "    plt.show()\n",
    "\n",
    "    # metric 2: mean and median test similarity\n",
    "    return np.mean(test_similarity), np.median(test_similarity);"
   ]
  },
  {
   "cell_type": "markdown",
   "metadata": {},
   "source": [
    "## SVM"
   ]
  },
  {
   "cell_type": "code",
   "execution_count": 8,
   "metadata": {
    "collapsed": false,
    "scrolled": false
   },
   "outputs": [
    {
     "name": "stdout",
     "output_type": "stream",
     "text": [
      "5-fold cross validation:\n",
      "c: 0.001 gamma: 0.001 Score: 0.0204047682704\n",
      "c: 0.001 gamma: 0.01 Score: 0.0204026463985\n",
      "c: 0.001 gamma: 0.1 Score: 0.0204034951473\n",
      "c: 0.001 gamma: 1.0 Score: 0.0204013732754\n",
      "c: 0.001 gamma: 10.0 Score: 0.0204026463985\n",
      "c: 0.001 gamma: 100.0 Score: 0.0204017976498\n",
      "c: 0.001 gamma: 1000.0 Score: 0.0204030707729\n",
      "c: 0.01 gamma: 0.001 Score: 0.0204022220242\n",
      "c: 0.01 gamma: 0.01 Score: 0.0204026463985\n",
      "c: 0.01 gamma: 0.1 Score: 0.0204051926447\n",
      "c: 0.01 gamma: 1.0 Score: 0.0204005245267\n",
      "c: 0.01 gamma: 10.0 Score: 0.0204013732754\n",
      "c: 0.01 gamma: 100.0 Score: 0.0204047682704\n",
      "c: 0.01 gamma: 1000.0 Score: 0.0204022220242\n",
      "c: 0.1 gamma: 0.001 Score: 0.0204022220242\n",
      "c: 0.1 gamma: 0.01 Score: 0.0204026463985\n",
      "c: 0.1 gamma: 0.1 Score: 0.0204022220242\n",
      "c: 0.1 gamma: 1.0 Score: 0.0204030707729\n",
      "c: 0.1 gamma: 10.0 Score: 0.0204013732754\n",
      "c: 0.1 gamma: 100.0 Score: 0.0204013732754\n",
      "c: 0.1 gamma: 1000.0 Score: 0.0204034951473\n",
      "c: 1.0 gamma: 0.001 Score: 0.0381796885941\n",
      "c: 1.0 gamma: 0.01 Score: 0.0306033330363\n",
      "c: 1.0 gamma: 0.1 Score: 0.0212743113465\n",
      "c: 1.0 gamma: 1.0 Score: 0.0204030707729\n",
      "c: 1.0 gamma: 10.0 Score: 0.0204030707729\n",
      "c: 1.0 gamma: 100.0 Score: 0.0204039195216\n",
      "c: 1.0 gamma: 1000.0 Score: 0.0204022220242\n",
      "c: 10.0 gamma: 0.001 Score: 0.0282705471459\n",
      "c: 10.0 gamma: 0.01 Score: 0.0291460314631\n",
      "c: 10.0 gamma: 0.1 Score: 0.0218616454692\n",
      "c: 10.0 gamma: 1.0 Score: 0.0204022220242\n",
      "c: 10.0 gamma: 10.0 Score: 0.0204030707729\n",
      "c: 10.0 gamma: 100.0 Score: 0.0204056170191\n",
      "c: 10.0 gamma: 1000.0 Score: 0.0204013732754\n",
      "c: 100.0 gamma: 0.001 Score: 0.0253567927483\n",
      "c: 100.0 gamma: 0.01 Score: 0.027105639511\n",
      "c: 100.0 gamma: 0.1 Score: 0.0221502200381\n",
      "c: 100.0 gamma: 1.0 Score: 0.0204005245267\n",
      "c: 100.0 gamma: 10.0 Score: 0.0204030707729\n",
      "c: 100.0 gamma: 100.0 Score: 0.0204030707729\n",
      "c: 100.0 gamma: 1000.0 Score: 0.0204030707729\n",
      "c: 1000.0 gamma: 0.001 Score: 0.0239011886726\n",
      "c: 1000.0 gamma: 0.01 Score: 0.0262318526912\n",
      "c: 1000.0 gamma: 0.1 Score: 0.021276008844\n",
      "c: 1000.0 gamma: 1.0 Score: 0.0204022220242\n",
      "c: 1000.0 gamma: 10.0 Score: 0.0204051926447\n",
      "c: 1000.0 gamma: 100.0 Score: 0.0204030707729\n",
      "c: 1000.0 gamma: 1000.0 Score: 0.0204017976498\n"
     ]
    },
    {
     "ename": "NameError",
     "evalue": "global name 'difflib' is not defined",
     "output_type": "error",
     "traceback": [
      "\u001b[0;31m---------------------------------------------------------------------------\u001b[0m",
      "\u001b[0;31mNameError\u001b[0m                                 Traceback (most recent call last)",
      "\u001b[0;32m<ipython-input-8-88ed7ab49b37>\u001b[0m in \u001b[0;36m<module>\u001b[0;34m()\u001b[0m\n\u001b[1;32m     43\u001b[0m \u001b[0movr_svc_rbf_score\u001b[0m \u001b[0;34m=\u001b[0m \u001b[0movr_svc_rbf\u001b[0m\u001b[0;34m.\u001b[0m\u001b[0mscore\u001b[0m\u001b[0;34m(\u001b[0m\u001b[0mx_test\u001b[0m\u001b[0;34m,\u001b[0m \u001b[0my_test\u001b[0m\u001b[0;34m)\u001b[0m\u001b[0;34m\u001b[0m\u001b[0m\n\u001b[1;32m     44\u001b[0m \u001b[0movr_svc_rbf_predicted\u001b[0m \u001b[0;34m=\u001b[0m \u001b[0movr_svc_rbf\u001b[0m\u001b[0;34m.\u001b[0m\u001b[0mpredict\u001b[0m\u001b[0;34m(\u001b[0m\u001b[0mx_test\u001b[0m\u001b[0;34m)\u001b[0m\u001b[0;34m\u001b[0m\u001b[0m\n\u001b[0;32m---> 45\u001b[0;31m \u001b[0movr_svc_rbf_match\u001b[0m \u001b[0;34m=\u001b[0m \u001b[0mcompute_match_ratio\u001b[0m\u001b[0;34m(\u001b[0m\u001b[0my_test\u001b[0m\u001b[0;34m,\u001b[0m \u001b[0movr_svc_rbf_predicted\u001b[0m\u001b[0;34m)\u001b[0m\u001b[0;34m\u001b[0m\u001b[0m\n\u001b[0m\u001b[1;32m     46\u001b[0m \u001b[0;34m\u001b[0m\u001b[0m\n\u001b[1;32m     47\u001b[0m \u001b[0;32mprint\u001b[0m \u001b[0;34m'Chosen c:'\u001b[0m\u001b[0;34m,\u001b[0m \u001b[0mbest_c\u001b[0m\u001b[0;34m\u001b[0m\u001b[0m\n",
      "\u001b[0;32m<ipython-input-7-ea78e425dc08>\u001b[0m in \u001b[0;36mcompute_match_ratio\u001b[0;34m(y_true, y_pred)\u001b[0m\n\u001b[1;32m      4\u001b[0m     \u001b[0mtest_similarity\u001b[0m \u001b[0;34m=\u001b[0m \u001b[0;34m[\u001b[0m\u001b[0;34m]\u001b[0m\u001b[0;34m\u001b[0m\u001b[0m\n\u001b[1;32m      5\u001b[0m     \u001b[0;32mfor\u001b[0m \u001b[0mi\u001b[0m \u001b[0;32min\u001b[0m \u001b[0mrange\u001b[0m\u001b[0;34m(\u001b[0m\u001b[0;36m0\u001b[0m\u001b[0;34m,\u001b[0m\u001b[0mlen\u001b[0m\u001b[0;34m(\u001b[0m\u001b[0my_true\u001b[0m\u001b[0;34m)\u001b[0m\u001b[0;34m)\u001b[0m\u001b[0;34m:\u001b[0m\u001b[0;34m\u001b[0m\u001b[0m\n\u001b[0;32m----> 6\u001b[0;31m         \u001b[0msm\u001b[0m \u001b[0;34m=\u001b[0m \u001b[0mdifflib\u001b[0m\u001b[0;34m.\u001b[0m\u001b[0mSequenceMatcher\u001b[0m\u001b[0;34m(\u001b[0m\u001b[0mNone\u001b[0m\u001b[0;34m,\u001b[0m \u001b[0ma\u001b[0m \u001b[0;34m=\u001b[0m \u001b[0my_true\u001b[0m\u001b[0;34m[\u001b[0m\u001b[0mi\u001b[0m\u001b[0;34m]\u001b[0m\u001b[0;34m,\u001b[0m \u001b[0mb\u001b[0m \u001b[0;34m=\u001b[0m \u001b[0my_pred\u001b[0m\u001b[0;34m[\u001b[0m\u001b[0mi\u001b[0m\u001b[0;34m]\u001b[0m\u001b[0;34m)\u001b[0m\u001b[0;34m\u001b[0m\u001b[0m\n\u001b[0m\u001b[1;32m      7\u001b[0m         \u001b[0;31m# ratio() returns a measure of the sequences’ similarity as a float in the range [0, 1].\u001b[0m\u001b[0;34m\u001b[0m\u001b[0;34m\u001b[0m\u001b[0m\n\u001b[1;32m      8\u001b[0m         \u001b[0;31m# Where T is the total number of elements in both sequences, and M is the number of matches,\u001b[0m\u001b[0;34m\u001b[0m\u001b[0;34m\u001b[0m\u001b[0m\n",
      "\u001b[0;31mNameError\u001b[0m: global name 'difflib' is not defined"
     ]
    }
   ],
   "source": [
    "# Parameters for tuning\n",
    "C = np.power(10., range(-3, 4))\n",
    "gammas = np.power(10., range(-3, 4))\n",
    "\n",
    "# To keep track of the best model\n",
    "best_score = 0\n",
    "\n",
    "# Run grid search for model with 5-fold cross validation\n",
    "print '5-fold cross validation:'\n",
    "\n",
    "\n",
    "for c in C:\n",
    "    for gamma in gammas:\n",
    "        # Cross validation for every experiment\n",
    "        k_folds = KFold(x_train.shape[0], n_folds=5, shuffle=True)\n",
    "        scores = []\n",
    "        for train_indices, validation_indices in k_folds:\n",
    "            # Generate training data\n",
    "            x_train_cv = x_train.values[train_indices]\n",
    "            y_train_cv = y_train[train_indices]\n",
    "            # Generate validation data\n",
    "            x_validate = x_train.values[validation_indices]\n",
    "            y_validate = y_train[validation_indices]\n",
    "            \n",
    "            # Fit random forest on training data\n",
    "            model = OneVsRestClassifier(SVC(kernel = 'rbf', C = c, gamma = gamma))\n",
    "            model.fit(x_train_cv, y_train_cv)\n",
    "            # Score on validation data\n",
    "            scores += [model.score(x_validate, y_validate)]\n",
    "        # Record and report accuracy\n",
    "        average_score = np.mean(scores)\n",
    "        print \"c:\", c, \"gamma:\", gamma, \"Score:\", average_score\n",
    "        \n",
    "        # Update our record of the best parameters see so far\n",
    "        if average_score > best_score:\n",
    "            best_score = average_score\n",
    "            best_c = c\n",
    "            best_gamma = gamma\n",
    "\n",
    "# Fit model on entire train set using chosen C\n",
    "ovr_svc_rbf = OneVsRestClassifier(SVC(kernel = 'rbf', C = best_c, gamma = best_gamma))\n",
    "ovr_svc_rbf.fit(x_train, y_train)\n",
    "ovr_svc_rbf_score = ovr_svc_rbf.score(x_test, y_test)\n",
    "ovr_svc_rbf_predicted = ovr_svc_rbf.predict(x_test)\n",
    "ovr_svc_rbf_match = compute_match_ratio(y_test, ovr_svc_rbf_predicted)\n",
    "\n",
    "print 'Chosen c:', best_c\n",
    "print 'Chosen gamma:', best_gamma\n",
    "print 'Test accuracy:', ovr_svc_rbf_score\n",
    "print 'Match ratio: ', ovr_svc_rbf_match"
   ]
  },
  {
   "cell_type": "markdown",
   "metadata": {},
   "source": [
    "**Please ignore this error message. We did not have enough time to rerun this portion to get rid of the error (took about 6 hours to run this block), so we are keeping this in the notebook. This error has nothing to do with the cross-validation. Based on the results of the cross validation, the best gamma is 0.001 and the best C is 1.0. **"
   ]
  },
  {
   "cell_type": "code",
   "execution_count": 8,
   "metadata": {
    "collapsed": false
   },
   "outputs": [
    {
     "data": {
      "image/png": "[encoded data removed]",
      "text/plain": [
       "<matplotlib.figure.Figure at 0x117608d50>"
      ]
     },
     "metadata": {},
     "output_type": "display_data"
    }
   ],
   "source": [
    "best_c = 1.0\n",
    "best_gamma = 0.001\n",
    "ovr_svc_rbf = OneVsRestClassifier(SVC(kernel = 'rbf', C = best_c, gamma = best_gamma))\n",
    "ovr_svc_rbf.fit(x_train, y_train)\n",
    "ovr_svc_rbf_score = ovr_svc_rbf.score(x_test, y_test)\n",
    "ovr_svc_rbf_predicted = ovr_svc_rbf.predict(x_test)\n",
    "ovr_svc_rbf_match = compute_match_ratio(y_test, ovr_svc_rbf_predicted)"
   ]
  },
  {
   "cell_type": "code",
   "execution_count": 9,
   "metadata": {
    "collapsed": false
   },
   "outputs": [
    {
     "name": "stdout",
     "output_type": "stream",
     "text": [
      "Chosen c: 1.0\n",
      "Chosen gamma: 0.001\n",
      "Test accuracy: 0.0414683888511\n",
      "Match ratio:  (0.75186947654656699, 0.78947368421052633)\n"
     ]
    }
   ],
   "source": [
    "print 'Chosen c:', best_c\n",
    "print 'Chosen gamma:', best_gamma\n",
    "print 'Test accuracy:', ovr_svc_rbf_score\n",
    "print 'Match ratio: ', ovr_svc_rbf_match"
   ]
  },
  {
   "cell_type": "code",
   "execution_count": null,
   "metadata": {
    "collapsed": false
   },
   "outputs": [
    {
     "name": "stdout",
     "output_type": "stream",
     "text": [
      "5-fold cross validation:\n"
     ]
    }
   ],
   "source": [
    "# # Parameters for tuning\n",
    "# C = np.power(10., range(-1, 2))\n",
    "# polys = range(2, 5)\n",
    "\n",
    "# # To keep track of the best model\n",
    "# best_score = 0\n",
    "\n",
    "# # Run grid search for model with 5-fold cross validation\n",
    "# print '5-fold cross validation:'\n",
    "\n",
    "\n",
    "# for c in C:\n",
    "#     for poly in polys:\n",
    "#         # Cross validation for every experiment\n",
    "#         k_folds = KFold(x_train.shape[0], n_folds=5, shuffle=True)\n",
    "#         scores = []\n",
    "#         for train_indices, validation_indices in k_folds:\n",
    "#             # Generate training data\n",
    "#             x_train_cv = x_train.values[train_indices]\n",
    "#             y_train_cv = y_train[train_indices]\n",
    "#             # Generate validation data\n",
    "#             x_validate = x_train.values[validation_indices]\n",
    "#             y_validate = y_train[validation_indices]\n",
    "            \n",
    "#             # Fit random forest on training data\n",
    "#             model = OneVsRestClassifier(SVC(kernel = 'poly', C = c, degree = poly))\n",
    "#             model.fit(x_train_cv, y_train_cv)\n",
    "#             # Score on validation data\n",
    "#             scores += [model.score(x_validate, y_validate)]\n",
    "#         # Record and report accuracy\n",
    "#         average_score = np.mean(scores)\n",
    "#         print \"c:\", c, \"poly:\", poly, \"Score:\", average_score\n",
    "        \n",
    "#         # Update our record of the best parameters see so far\n",
    "#         if average_score > best_score:\n",
    "#             best_score = average_score\n",
    "#             best_c = c\n",
    "#             best_poly = poly\n",
    "\n",
    "# # Fit model on entire train set using chosen C\n",
    "# ovr_svc_poly = OneVsRestClassifier(SVC(kernel = 'poly', C = best_c, degree = best_poly))\n",
    "# ovr_svc_poly.fit(x_train, y_train)\n",
    "# ovr_svc_poly_score = ovr_svc_poly.score(x_test, y_test)\n",
    "# ovr_svc_poly_predicted = ovr_svc_poly.predict(x_test)\n",
    "# ovr_svc_poly_match = compute_match_ratio(y_test, ovr_svc_poly_predicted)"
   ]
  },
  {
   "cell_type": "markdown",
   "metadata": {},
   "source": [
    "## Logistic Regression"
   ]
  },
  {
   "cell_type": "code",
   "execution_count": 9,
   "metadata": {
    "collapsed": false
   },
   "outputs": [
    {
     "name": "stdout",
     "output_type": "stream",
     "text": [
      "5-fold cross validation:\n",
      "c: 1e-07 Score: 0.0177774665699\n",
      "c: 1e-06 Score: 0.017778739693\n",
      "c: 1e-05 Score: 0.0177791640674\n",
      "c: 0.0001 Score: 0.0177795884417\n",
      "c: 0.001 Score: 0.0177795884417\n",
      "c: 0.01 Score: 0.0177757690724\n",
      "c: 0.1 Score: 0.0177778909443\n",
      "c: 1.0 Score: 0.0177770421955\n",
      "c: 10.0 Score: 0.0177804371905\n",
      "c: 100.0 Score: 0.0177791640674\n",
      "c: 1000.0 Score: 0.0177795884417\n",
      "c: 10000.0 Score: 0.0177804371905\n",
      "c: 100000.0 Score: 0.017778739693\n",
      "c: 1000000.0 Score: 0.0177791640674\n",
      "c: 10000000.0 Score: 0.0177804371905\n"
     ]
    },
    {
     "data": {
      "image/png": "[encoded data removed]",
      "text/plain": [
       "<matplotlib.figure.Figure at 0x1190badd0>"
      ]
     },
     "metadata": {},
     "output_type": "display_data"
    }
   ],
   "source": [
    "# Parameters for tuning\n",
    "C = np.power(10., range(-7, 8))\n",
    "\n",
    "# To keep track of the best model\n",
    "best_score = 0\n",
    "\n",
    "# Run grid search for model with 5-fold cross validation\n",
    "print '5-fold cross validation:'\n",
    "\n",
    "\n",
    "for c in C:\n",
    "    # Cross validation for every experiment\n",
    "    k_folds = KFold(x_train.shape[0], n_folds=5, shuffle=True)\n",
    "    scores = []\n",
    "    for train_indices, validation_indices in k_folds:\n",
    "        # Generate training data\n",
    "        x_train_cv = x_train.values[train_indices]\n",
    "        y_train_cv = y_train[train_indices]\n",
    "        # Generate validation data\n",
    "        x_validate = x_train.values[validation_indices]\n",
    "        y_validate = y_train[validation_indices]\n",
    "        \n",
    "        # Fit random forest on training data\n",
    "        model = OneVsRestClassifier(LogisticRegression(C = c))\n",
    "        model.fit(x_train_cv, y_train_cv)\n",
    "        # Score on validation data\n",
    "        scores += [model.score(x_validate, y_validate)]\n",
    "    # Record and report accuracy\n",
    "    average_score = np.mean(scores)\n",
    "    print \"c:\", c, \"Score:\", average_score\n",
    "    \n",
    "    # Update our record of the best parameters see so far\n",
    "    if average_score > best_score:\n",
    "        best_score = average_score\n",
    "        best_c = c\n",
    "\n",
    "# Fit model on entire train set using chosen C\n",
    "ovr_logistic = OneVsRestClassifier(LogisticRegression(C = best_c))\n",
    "ovr_logistic.fit(x_train, y_train)\n",
    "ovr_logistic_score = ovr_logistic.score(x_test, y_test)\n",
    "ovr_logistic_predicted = ovr_logistic.predict(x_test)\n",
    "ovr_logistic_match = compute_match_ratio(y_test, ovr_logistic_predicted)"
   ]
  },
  {
   "cell_type": "code",
   "execution_count": 10,
   "metadata": {
    "collapsed": false
   },
   "outputs": [
    {
     "name": "stdout",
     "output_type": "stream",
     "text": [
      "Chosen c: 10.0\n",
      "Test accuracy: 0.0169952413324\n",
      "Match ratio:  (0.73033024437368055, 0.73684210526315785)\n"
     ]
    }
   ],
   "source": [
    "print 'Chosen c:', best_c\n",
    "print 'Test accuracy:', ovr_logistic_score\n",
    "print 'Match ratio: ', ovr_logistic_match"
   ]
  },
  {
   "cell_type": "code",
   "execution_count": null,
   "metadata": {
    "collapsed": true
   },
   "outputs": [],
   "source": []
  }
 ],
 "metadata": {
  "anaconda-cloud": {},
  "kernelspec": {
   "display_name": "Python [Root]",
   "language": "python",
   "name": "Python [Root]"
  },
  "language_info": {
   "codemirror_mode": {
    "name": "ipython",
    "version": 2
   },
   "file_extension": ".py",
   "mimetype": "text/x-python",
   "name": "python",
   "nbconvert_exporter": "python",
   "pygments_lexer": "ipython2",
   "version": "2.7.12"
  }
 },
 "nbformat": 4,
 "nbformat_minor": 0
}
