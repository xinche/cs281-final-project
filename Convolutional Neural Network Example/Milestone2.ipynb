{
 "cells": [
  {
   "cell_type": "markdown",
   "metadata": {
    "deletable": true,
    "editable": true
   },
   "source": [
    "### Milestone 2: Assembling training data, due Wednesday, April 12, 2017\n",
    "\n",
    "We are aware that you have little time this week, due to the midterm. So this milestone is a bit easier to achieve than the others. The goal for this week is to prepare the data for the modeling phase of the project. You should end up with a typical data setup of training data X and data labels Y.\n",
    "\n",
    "The exact form of X and Y depends on the ideas you had previously. In general though Y should involve the genre of a movie, and X the features you want to include to predict the genre. Remember from the lecture that more features does not necessarily equal better prediction performance. Use your application knowledge and the insight you gathered from your genre pair analysis and additional EDA to design Y. Do you want to include all genres? Are there genres that you assume to be easier to separate than others? Are there genres that could be grouped together? There is no one right answer here. We are looking for your insight, so be sure to describe your decision process in your notebook. \n",
    "\n",
    "In preparation for the deep learning part we strongly encourage you to have two sets of training data X, one with the metadata and one with the movie posters. Make sure to have a common key, like the movie ID, to be able to link the two sets together. Also be mindful of the data rate when you obtain the posters. Time your requests and choose which poster resolution you need. In most cases w500 should be sufficient, and probably a lower resolution will be fine.\n",
    "\n",
    "The notebook to submit this week should at least include:\n",
    "\n",
    "- Discussion about the imbalanced nature of the data and how you want to address it\n",
    "- Description of your data\n",
    "- What does your choice of Y look like?\n",
    "- Which features do you choose for X and why? \n",
    "- How do you sample your data, how many samples, and why?\n",
    "\n",
    "*Important*: You do not need to upload the data itself to Canvas."
   ]
  },
  {
   "cell_type": "code",
   "execution_count": 4,
   "metadata": {
    "collapsed": false,
    "scrolled": true
   },
   "outputs": [],
   "source": [
    "# we will eventually get 2000 movies from IMBD randomly\n",
    "# create a top 200 list by sending the query 5 times\n",
    "\n",
    "random1 = urllib.urlopen(\"https://api.themoviedb.org/3/discover/movie?api_key=2dc6c9f1d17bd39dcbaef83321e1b5a3&original_language=en&page=1\")\n",
    "random1_json = json.loads(random1.read())\n",
    "random_movie_data_json = random1_json[\"results\"]\n",
    "\n",
    "pages = range(2,1001)\n",
    "np.random.shuffle(pages)\n",
    "sampled_pages = pages[:99]\n",
    "\n",
    "\n",
    "# need to sleep in order to not return an error: limitation 40 requests per 10s\n",
    "for i in range(len(sampled_pages)):\n",
    "    if i%39 == 0:\n",
    "        time.sleep(7)\n",
    "\n",
    "    tmp_url = \"https://api.themoviedb.org/3/discover/movie?api_key=2dc6c9f1d17bd39dcbaef83321e1b5a3&original_language=en&page=\" + str(sampled_pages[i])\n",
    "    tmp_page = urllib.urlopen(tmp_url)\n",
    "    tmp_json = json.loads(tmp_page.read())\n",
    "    for movie in tmp_json[\"results\"]:\n",
    "        random_movie_data_json.append(movie)\n"
   ]
  },
  {
   "cell_type": "code",
   "execution_count": 34,
   "metadata": {
    "collapsed": false
   },
   "outputs": [
    {
     "data": {
      "text/plain": [
       "{u'adult': False,\n",
       " u'backdrop_path': u'/6aUWe0GSl69wMTSWWexsorMIvwU.jpg',\n",
       " u'genre_ids': [14, 10402, 10749],\n",
       " u'id': 321612,\n",
       " u'original_language': u'en',\n",
       " u'original_title': u'Beauty and the Beast',\n",
       " u'overview': u\"A live-action adaptation of Disney's version of the classic 'Beauty and the Beast' tale of a cursed prince and a beautiful young woman who helps him break the spell.\",\n",
       " u'popularity': 174.72627,\n",
       " u'poster_path': u'/tWqifoYuwLETmmasnGHO7xBjEtt.jpg',\n",
       " u'release_date': u'2017-03-16',\n",
       " u'title': u'Beauty and the Beast',\n",
       " u'video': False,\n",
       " u'vote_average': 6.9,\n",
       " u'vote_count': 1512}"
      ]
     },
     "execution_count": 34,
     "metadata": {},
     "output_type": "execute_result"
    }
   ],
   "source": [
    "random_movie_data_json[0]"
   ]
  },
  {
   "cell_type": "code",
   "execution_count": 26,
   "metadata": {
    "collapsed": false
   },
   "outputs": [],
   "source": [
    "# make a df and save\n",
    "genre_ids, overview, popularity, poster_path, title, vote_average, vote_count, release_date, movie_id = [], [], [], [], [], [], [], [], []\n",
    "for movie in random_movie_data_json:\n",
    "    genre_ids.append(movie[\"genre_ids\"])\n",
    "    overview.append(movie[\"overview\"])\n",
    "    popularity.append(movie[\"popularity\"])\n",
    "    poster_path.append(movie[\"poster_path\"])\n",
    "    title.append(movie[\"title\"])\n",
    "    vote_average.append(movie[\"vote_average\"])\n",
    "    vote_count.append(movie[\"vote_count\"])\n",
    "    release_date.append(movie[\"release_date\"])\n",
    "    movie_id.append(movie[\"id\"])\n",
    "\n",
    "data = {'title': title, 'overview': overview, 'popularity': popularity, 'release_date': release_date, 'poster_path': poster_path, 'vote_average': vote_average,  'vote_count': vote_count, 'genre_ids': genre_ids, 'movie_id': movie_id}\n",
    "ran_df = pd.DataFrame(data = data)\n",
    "ran_df.to_csv('dataset1.csv', encoding = 'utf-8')"
   ]
  },
  {
   "cell_type": "code",
   "execution_count": 33,
   "metadata": {
    "collapsed": false
   },
   "outputs": [
    {
     "data": {
      "text/html": [
       "<div>\n",
       "<table border=\"1\" class=\"dataframe\">\n",
       "  <thead>\n",
       "    <tr style=\"text-align: right;\">\n",
       "      <th></th>\n",
       "      <th>genre_ids</th>\n",
       "      <th>movie_id</th>\n",
       "      <th>overview</th>\n",
       "      <th>popularity</th>\n",
       "      <th>poster_path</th>\n",
       "      <th>release_date</th>\n",
       "      <th>title</th>\n",
       "      <th>vote_average</th>\n",
       "      <th>vote_count</th>\n",
       "    </tr>\n",
       "  </thead>\n",
       "  <tbody>\n",
       "    <tr>\n",
       "      <th>0</th>\n",
       "      <td>[14, 10402, 10749]</td>\n",
       "      <td>321612</td>\n",
       "      <td>A live-action adaptation of Disney's version o...</td>\n",
       "      <td>174.726270</td>\n",
       "      <td>/tWqifoYuwLETmmasnGHO7xBjEtt.jpg</td>\n",
       "      <td>2017-03-16</td>\n",
       "      <td>Beauty and the Beast</td>\n",
       "      <td>6.9</td>\n",
       "      <td>1539</td>\n",
       "    </tr>\n",
       "    <tr>\n",
       "      <th>1</th>\n",
       "      <td>[36, 16, 35, 10751, 27, 53, 18, 80]</td>\n",
       "      <td>295693</td>\n",
       "      <td>A story about how a new baby's arrival impacts...</td>\n",
       "      <td>125.359764</td>\n",
       "      <td>/67NXPYvK92oQgEQvLppF2Siol9q.jpg</td>\n",
       "      <td>2017-03-23</td>\n",
       "      <td>The Boss Baby</td>\n",
       "      <td>5.7</td>\n",
       "      <td>340</td>\n",
       "    </tr>\n",
       "    <tr>\n",
       "      <th>2</th>\n",
       "      <td>[28, 18, 878]</td>\n",
       "      <td>263115</td>\n",
       "      <td>In the near future, a weary Logan cares for an...</td>\n",
       "      <td>83.229122</td>\n",
       "      <td>/45Y1G5FEgttPAwjTYic6czC9xCn.jpg</td>\n",
       "      <td>2017-02-28</td>\n",
       "      <td>Logan</td>\n",
       "      <td>7.6</td>\n",
       "      <td>2240</td>\n",
       "    </tr>\n",
       "    <tr>\n",
       "      <th>3</th>\n",
       "      <td>[28, 12, 14]</td>\n",
       "      <td>293167</td>\n",
       "      <td>Explore the mysterious and dangerous home of t...</td>\n",
       "      <td>69.901494</td>\n",
       "      <td>/5wBbdNb0NdGiZQJYoKHRv6VbiOr.jpg</td>\n",
       "      <td>2017-03-08</td>\n",
       "      <td>Kong: Skull Island</td>\n",
       "      <td>6.1</td>\n",
       "      <td>1048</td>\n",
       "    </tr>\n",
       "    <tr>\n",
       "      <th>4</th>\n",
       "      <td>[16, 35, 18, 10751, 10402]</td>\n",
       "      <td>335797</td>\n",
       "      <td>A koala named Buster recruits his best friend ...</td>\n",
       "      <td>67.964414</td>\n",
       "      <td>/s9ye87pvq2IaDvjv9x4IOXVjvA7.jpg</td>\n",
       "      <td>2016-11-23</td>\n",
       "      <td>Sing</td>\n",
       "      <td>6.7</td>\n",
       "      <td>1056</td>\n",
       "    </tr>\n",
       "  </tbody>\n",
       "</table>\n",
       "</div>"
      ],
      "text/plain": [
       "                             genre_ids  movie_id  \\\n",
       "0                   [14, 10402, 10749]    321612   \n",
       "1  [36, 16, 35, 10751, 27, 53, 18, 80]    295693   \n",
       "2                        [28, 18, 878]    263115   \n",
       "3                         [28, 12, 14]    293167   \n",
       "4           [16, 35, 18, 10751, 10402]    335797   \n",
       "\n",
       "                                            overview  popularity  \\\n",
       "0  A live-action adaptation of Disney's version o...  174.726270   \n",
       "1  A story about how a new baby's arrival impacts...  125.359764   \n",
       "2  In the near future, a weary Logan cares for an...   83.229122   \n",
       "3  Explore the mysterious and dangerous home of t...   69.901494   \n",
       "4  A koala named Buster recruits his best friend ...   67.964414   \n",
       "\n",
       "                        poster_path release_date                 title  \\\n",
       "0  /tWqifoYuwLETmmasnGHO7xBjEtt.jpg   2017-03-16  Beauty and the Beast   \n",
       "1  /67NXPYvK92oQgEQvLppF2Siol9q.jpg   2017-03-23         The Boss Baby   \n",
       "2  /45Y1G5FEgttPAwjTYic6czC9xCn.jpg   2017-02-28                 Logan   \n",
       "3  /5wBbdNb0NdGiZQJYoKHRv6VbiOr.jpg   2017-03-08    Kong: Skull Island   \n",
       "4  /s9ye87pvq2IaDvjv9x4IOXVjvA7.jpg   2016-11-23                  Sing   \n",
       "\n",
       "   vote_average  vote_count  \n",
       "0           6.9        1539  \n",
       "1           5.7         340  \n",
       "2           7.6        2240  \n",
       "3           6.1        1048  \n",
       "4           6.7        1056  "
      ]
     },
     "execution_count": 33,
     "metadata": {},
     "output_type": "execute_result"
    }
   ],
   "source": [
    "ran_df.head()"
   ]
  },
  {
   "cell_type": "code",
   "execution_count": 32,
   "metadata": {
    "collapsed": false
   },
   "outputs": [
    {
     "data": {
      "text/plain": [
       "[<PIL.JpegImagePlugin.JpegImageFile image mode=RGB size=500x750 at 0x118BA14D0>,\n",
       " <PIL.JpegImagePlugin.JpegImageFile image mode=RGB size=500x750 at 0x119BC7110>,\n",
       " <PIL.JpegImagePlugin.JpegImageFile image mode=RGB size=500x750 at 0x119BC7510>,\n",
       " <PIL.JpegImagePlugin.JpegImageFile image mode=RGB size=500x750 at 0x119BC7490>,\n",
       " <PIL.JpegImagePlugin.JpegImageFile image mode=RGB size=500x750 at 0x119BC7D50>,\n",
       " <PIL.JpegImagePlugin.JpegImageFile image mode=RGB size=500x750 at 0x119BC7550>,\n",
       " <PIL.JpegImagePlugin.JpegImageFile image mode=RGB size=500x750 at 0x119BC7FD0>,\n",
       " <PIL.JpegImagePlugin.JpegImageFile image mode=RGB size=500x750 at 0x119BC72D0>,\n",
       " <PIL.JpegImagePlugin.JpegImageFile image mode=RGB size=500x750 at 0x119BC7590>,\n",
       " <PIL.JpegImagePlugin.JpegImageFile image mode=RGB size=500x750 at 0x119BC76D0>,\n",
       " <PIL.JpegImagePlugin.JpegImageFile image mode=RGB size=500x750 at 0x119BC7610>,\n",
       " <PIL.JpegImagePlugin.JpegImageFile image mode=RGB size=500x750 at 0x119BC7210>,\n",
       " <PIL.JpegImagePlugin.JpegImageFile image mode=RGB size=500x750 at 0x119BC7150>,\n",
       " <PIL.JpegImagePlugin.JpegImageFile image mode=RGB size=500x750 at 0x119BC7290>,\n",
       " <PIL.JpegImagePlugin.JpegImageFile image mode=RGB size=500x750 at 0x119BC7250>,\n",
       " <PIL.JpegImagePlugin.JpegImageFile image mode=RGB size=500x750 at 0x119BC7750>,\n",
       " <PIL.JpegImagePlugin.JpegImageFile image mode=RGB size=500x750 at 0x119BC7710>,\n",
       " <PIL.JpegImagePlugin.JpegImageFile image mode=RGB size=500x750 at 0x119BC77D0>,\n",
       " <PIL.JpegImagePlugin.JpegImageFile image mode=RGB size=500x750 at 0x119BC7810>,\n",
       " <PIL.JpegImagePlugin.JpegImageFile image mode=RGB size=500x750 at 0x119BC7390>]"
      ]
     },
     "execution_count": 32,
     "metadata": {},
     "output_type": "execute_result"
    }
   ],
   "source": [
    "# now we get the posters into a df\n",
    "imgs = []\n",
    "for i in range(len(ran_df.poster_path[:20])):\n",
    "    if i%39 == 0:\n",
    "        # sleep\n",
    "        time.sleep(7)\n",
    "    url = \"https://image.tmdb.org/t/p/w500\" + poster_path[i]\n",
    "    tmp_poster = cStringIO.StringIO(urllib.urlopen(url).read())\n",
    "    img = Image.open(tmp_poster) \n",
    "    imgs.append(img)\n",
    "    \n",
    "imgs[:20]\n",
    "    \n",
    "    \n"
   ]
  },
  {
   "cell_type": "markdown",
   "metadata": {},
   "source": [
    "The above is just the top 20. From later ones, we can see that width is always 500 but height can vary."
   ]
  },
  {
   "cell_type": "code",
   "execution_count": 35,
   "metadata": {
    "collapsed": false
   },
   "outputs": [],
   "source": [
    "# create rgb arrays for these images\n",
    "RGB = []\n",
    "\n",
    "for img in imgs:\n",
    "    tmp = img.load()\n",
    "    pixels = []\n",
    "    for i in range(img.size[0]):\n",
    "        for j in range(img.size[1]):\n",
    "            pixels.append(tmp[i,j])\n",
    "    RGB.append(pixels)       "
   ]
  },
  {
   "cell_type": "code",
   "execution_count": 38,
   "metadata": {
    "collapsed": false
   },
   "outputs": [
    {
     "data": {
      "text/html": [
       "<div>\n",
       "<table border=\"1\" class=\"dataframe\">\n",
       "  <thead>\n",
       "    <tr style=\"text-align: right;\">\n",
       "      <th></th>\n",
       "      <th>RGB</th>\n",
       "      <th>genre_ids</th>\n",
       "      <th>imgs</th>\n",
       "      <th>movie_id</th>\n",
       "      <th>title</th>\n",
       "    </tr>\n",
       "  </thead>\n",
       "  <tbody>\n",
       "    <tr>\n",
       "      <th>0</th>\n",
       "      <td>[(12, 32, 65), (11, 31, 64), (21, 41, 74), (28...</td>\n",
       "      <td>[14, 10402, 10749]</td>\n",
       "      <td>&lt;PIL.JpegImagePlugin.JpegImageFile image mode=...</td>\n",
       "      <td>321612</td>\n",
       "      <td>Beauty and the Beast</td>\n",
       "    </tr>\n",
       "    <tr>\n",
       "      <th>1</th>\n",
       "      <td>[(255, 255, 255), (255, 255, 255), (255, 255, ...</td>\n",
       "      <td>[36, 16, 35, 10751, 27, 53, 18, 80]</td>\n",
       "      <td>&lt;PIL.JpegImagePlugin.JpegImageFile image mode=...</td>\n",
       "      <td>295693</td>\n",
       "      <td>The Boss Baby</td>\n",
       "    </tr>\n",
       "    <tr>\n",
       "      <th>2</th>\n",
       "      <td>[(7, 9, 8), (5, 7, 6), (7, 9, 8), (7, 9, 8), (...</td>\n",
       "      <td>[28, 18, 878]</td>\n",
       "      <td>&lt;PIL.JpegImagePlugin.JpegImageFile image mode=...</td>\n",
       "      <td>263115</td>\n",
       "      <td>Logan</td>\n",
       "    </tr>\n",
       "    <tr>\n",
       "      <th>3</th>\n",
       "      <td>[(140, 51, 17), (135, 46, 12), (133, 44, 10), ...</td>\n",
       "      <td>[28, 12, 14]</td>\n",
       "      <td>&lt;PIL.JpegImagePlugin.JpegImageFile image mode=...</td>\n",
       "      <td>293167</td>\n",
       "      <td>Kong: Skull Island</td>\n",
       "    </tr>\n",
       "    <tr>\n",
       "      <th>4</th>\n",
       "      <td>[(92, 79, 107), (89, 76, 104), (95, 80, 109), ...</td>\n",
       "      <td>[16, 35, 18, 10751, 10402]</td>\n",
       "      <td>&lt;PIL.JpegImagePlugin.JpegImageFile image mode=...</td>\n",
       "      <td>335797</td>\n",
       "      <td>Sing</td>\n",
       "    </tr>\n",
       "  </tbody>\n",
       "</table>\n",
       "</div>"
      ],
      "text/plain": [
       "                                                 RGB  \\\n",
       "0  [(12, 32, 65), (11, 31, 64), (21, 41, 74), (28...   \n",
       "1  [(255, 255, 255), (255, 255, 255), (255, 255, ...   \n",
       "2  [(7, 9, 8), (5, 7, 6), (7, 9, 8), (7, 9, 8), (...   \n",
       "3  [(140, 51, 17), (135, 46, 12), (133, 44, 10), ...   \n",
       "4  [(92, 79, 107), (89, 76, 104), (95, 80, 109), ...   \n",
       "\n",
       "                             genre_ids  \\\n",
       "0                   [14, 10402, 10749]   \n",
       "1  [36, 16, 35, 10751, 27, 53, 18, 80]   \n",
       "2                        [28, 18, 878]   \n",
       "3                         [28, 12, 14]   \n",
       "4           [16, 35, 18, 10751, 10402]   \n",
       "\n",
       "                                                imgs  movie_id  \\\n",
       "0  <PIL.JpegImagePlugin.JpegImageFile image mode=...    321612   \n",
       "1  <PIL.JpegImagePlugin.JpegImageFile image mode=...    295693   \n",
       "2  <PIL.JpegImagePlugin.JpegImageFile image mode=...    263115   \n",
       "3  <PIL.JpegImagePlugin.JpegImageFile image mode=...    293167   \n",
       "4  <PIL.JpegImagePlugin.JpegImageFile image mode=...    335797   \n",
       "\n",
       "                  title  \n",
       "0  Beauty and the Beast  \n",
       "1         The Boss Baby  \n",
       "2                 Logan  \n",
       "3    Kong: Skull Island  \n",
       "4                  Sing  "
      ]
     },
     "execution_count": 38,
     "metadata": {},
     "output_type": "execute_result"
    }
   ],
   "source": [
    "data_img = {'title': title, 'movie_id': movie_id,'genre_ids': genre_ids, 'RGB': RGB, 'imgs':imgs}\n",
    "img_df = pd.DataFrame(data = data_img)\n",
    "img_df.head()"
   ]
  },
  {
   "cell_type": "code",
   "execution_count": 39,
   "metadata": {
    "collapsed": false
   },
   "outputs": [
    {
     "data": {
      "text/plain": [
       "3799"
      ]
     },
     "execution_count": 39,
     "metadata": {},
     "output_type": "execute_result"
    }
   ],
   "source": [
    "# the below is a dataset we created to address the data imbalance issue\n",
    "\n",
    "# a dataset balanced by genre and release year \n",
    "genre_movie_data_json = []\n",
    "\n",
    "# sample from these years\n",
    "years = [2007, 2008, 2009, 2010, 2011, 2012, 2013, 2014, 2015, 2016]\n",
    "\n",
    "# all genres \n",
    "genres = [10752, 80, 10402, 35, 36, 37, 53, 9648, 12, 10770, 14, 16, 18, 99, 878, 27, 28, 10749, 10751]\n",
    "\n",
    "for i in range(0,len(years)):\n",
    "    for j in range(0,len(genres)): \n",
    "        \n",
    "        # sleep periodically \n",
    "        if (i*j*20)%39 == 0:\n",
    "            time.sleep(7)      \n",
    "        \n",
    "        # pull one page, 20 movies with the same [genre, release date] \n",
    "        tmp_url = \"https://api.themoviedb.org/3/discover/movie?api_key=2dc6c9f1d17bd39dcbaef83321e1b5a3&with_genres=\"+str(genres[j])+\"&primary_release_year=\"+str(years[i])\n",
    "        tmp_page = urllib.urlopen(tmp_url)\n",
    "        tmp_json = json.loads(tmp_page.read())\n",
    "        for movie in tmp_json['results']:\n",
    "            genre_movie_data_json.append(movie)\n",
    "\n",
    "len(genre_movie_data_json)"
   ]
  },
  {
   "cell_type": "code",
   "execution_count": 41,
   "metadata": {
    "collapsed": false
   },
   "outputs": [
    {
     "data": {
      "text/html": [
       "<div>\n",
       "<table border=\"1\" class=\"dataframe\">\n",
       "  <thead>\n",
       "    <tr style=\"text-align: right;\">\n",
       "      <th></th>\n",
       "      <th>genre_ids</th>\n",
       "      <th>movie_id</th>\n",
       "      <th>overview</th>\n",
       "      <th>popularity</th>\n",
       "      <th>poster_path</th>\n",
       "      <th>release_date</th>\n",
       "      <th>title</th>\n",
       "      <th>vote_average</th>\n",
       "      <th>vote_count</th>\n",
       "    </tr>\n",
       "  </thead>\n",
       "  <tbody>\n",
       "    <tr>\n",
       "      <th>0</th>\n",
       "      <td>[28, 12, 14, 10752]</td>\n",
       "      <td>9703</td>\n",
       "      <td>As the Roman empire crumbles, young Romulus Au...</td>\n",
       "      <td>2.154325</td>\n",
       "      <td>/8K4WWwFew1CzCGVkgmKdamCA6kz.jpg</td>\n",
       "      <td>2007-04-19</td>\n",
       "      <td>The Last Legion</td>\n",
       "      <td>5.1</td>\n",
       "      <td>161</td>\n",
       "    </tr>\n",
       "    <tr>\n",
       "      <th>1</th>\n",
       "      <td>[18, 10752]</td>\n",
       "      <td>11600</td>\n",
       "      <td>Redacted is a film written and directed by Bri...</td>\n",
       "      <td>1.688185</td>\n",
       "      <td>/59SCyrGk5KtTtqZg16QmHx7BInt.jpg</td>\n",
       "      <td>2007-01-01</td>\n",
       "      <td>Redacted</td>\n",
       "      <td>6.0</td>\n",
       "      <td>29</td>\n",
       "    </tr>\n",
       "    <tr>\n",
       "      <th>2</th>\n",
       "      <td>[18, 10752]</td>\n",
       "      <td>7862</td>\n",
       "      <td>The story Jewish counterfeiter, Salomon Sorowi...</td>\n",
       "      <td>1.535367</td>\n",
       "      <td>/bRQddrgVemZtFdnrPy9AxTpkhpj.jpg</td>\n",
       "      <td>2007-02-09</td>\n",
       "      <td>The Counterfeiters</td>\n",
       "      <td>7.3</td>\n",
       "      <td>123</td>\n",
       "    </tr>\n",
       "    <tr>\n",
       "      <th>3</th>\n",
       "      <td>[10752, 35, 18]</td>\n",
       "      <td>6172</td>\n",
       "      <td>Hitler no longer believes in himself, and can ...</td>\n",
       "      <td>1.316710</td>\n",
       "      <td>/g0qAFteXp0V8QbFPxdx9bo058IP.jpg</td>\n",
       "      <td>2007-01-11</td>\n",
       "      <td>My Führer</td>\n",
       "      <td>5.4</td>\n",
       "      <td>20</td>\n",
       "    </tr>\n",
       "    <tr>\n",
       "      <th>4</th>\n",
       "      <td>[18, 36, 10752]</td>\n",
       "      <td>13614</td>\n",
       "      <td>An examination of the Soviet slaughter of thou...</td>\n",
       "      <td>1.222725</td>\n",
       "      <td>/yNOxe78EYZO5LcQTfDwTeIuvDcK.jpg</td>\n",
       "      <td>2007-09-21</td>\n",
       "      <td>Katyn</td>\n",
       "      <td>6.6</td>\n",
       "      <td>41</td>\n",
       "    </tr>\n",
       "  </tbody>\n",
       "</table>\n",
       "</div>"
      ],
      "text/plain": [
       "             genre_ids  movie_id  \\\n",
       "0  [28, 12, 14, 10752]      9703   \n",
       "1          [18, 10752]     11600   \n",
       "2          [18, 10752]      7862   \n",
       "3      [10752, 35, 18]      6172   \n",
       "4      [18, 36, 10752]     13614   \n",
       "\n",
       "                                            overview  popularity  \\\n",
       "0  As the Roman empire crumbles, young Romulus Au...    2.154325   \n",
       "1  Redacted is a film written and directed by Bri...    1.688185   \n",
       "2  The story Jewish counterfeiter, Salomon Sorowi...    1.535367   \n",
       "3  Hitler no longer believes in himself, and can ...    1.316710   \n",
       "4  An examination of the Soviet slaughter of thou...    1.222725   \n",
       "\n",
       "                        poster_path release_date               title  \\\n",
       "0  /8K4WWwFew1CzCGVkgmKdamCA6kz.jpg   2007-04-19     The Last Legion   \n",
       "1  /59SCyrGk5KtTtqZg16QmHx7BInt.jpg   2007-01-01            Redacted   \n",
       "2  /bRQddrgVemZtFdnrPy9AxTpkhpj.jpg   2007-02-09  The Counterfeiters   \n",
       "3  /g0qAFteXp0V8QbFPxdx9bo058IP.jpg   2007-01-11           My Führer   \n",
       "4  /yNOxe78EYZO5LcQTfDwTeIuvDcK.jpg   2007-09-21               Katyn   \n",
       "\n",
       "   vote_average  vote_count  \n",
       "0           5.1         161  \n",
       "1           6.0          29  \n",
       "2           7.3         123  \n",
       "3           5.4          20  \n",
       "4           6.6          41  "
      ]
     },
     "execution_count": 41,
     "metadata": {},
     "output_type": "execute_result"
    }
   ],
   "source": [
    "genre_ids, overview, popularity, poster_path, title, vote_average, vote_count, release_date, movie_id = [], [], [], [], [], [], [], [], []\n",
    "for movie in genre_movie_data_json:\n",
    "    genre_ids.append(movie[\"genre_ids\"])\n",
    "    overview.append(movie[\"overview\"])\n",
    "    popularity.append(movie[\"popularity\"])\n",
    "    poster_path.append(movie[\"poster_path\"])\n",
    "    title.append(movie[\"title\"])\n",
    "    vote_average.append(movie[\"vote_average\"])\n",
    "    vote_count.append(movie[\"vote_count\"])\n",
    "    release_date.append(movie[\"release_date\"])\n",
    "    movie_id.append(movie[\"id\"])\n",
    "\n",
    "data = {'title': title, 'overview': overview, 'popularity': popularity, 'release_date': release_date, 'poster_path': poster_path, 'vote_average': vote_average,  'vote_count': vote_count, 'genre_ids': genre_ids, 'movie_id': movie_id}\n",
    "genre_df = pd.DataFrame(data = data)\n",
    "\n",
    "# check for duplicates\n",
    "# print len(genre_df.movie_id.unique())\n",
    "\n",
    "# delete duplicates based on movie_id\n",
    "genre_clean = genre_df.loc[genre_df['movie_id'].isin(genre_df.movie_id.drop_duplicates())]\n",
    "# print len(genre_df.loc[genre_df['movie_id'].isin(genre_df.movie_id.drop_duplicates())]) \n",
    "\n",
    "genre_df.head()"
   ]
  },
  {
   "cell_type": "markdown",
   "metadata": {},
   "source": [
    "^ our balanced dataset"
   ]
  },
  {
   "cell_type": "markdown",
   "metadata": {},
   "source": [
    "# Discussions\n",
    "\n",
    "- Discussion about the imbalanced nature of the data and how you want to address it\n",
    "\n",
    "We noticed in our data that there is not an equal representation of each genre in our data set. To address this problem, we created an additional data set filtering for the genres. Therefore, we created a stratefied sample where each genre had equal weights in our data. Another method we thought about was to bootstrap our data during the modeling process to have equal weights for each genre.\n",
    "\n",
    "- Description of your data\n",
    "\n",
    "We have 3 separate data sets. The first two metadata sets contain \"overview,\" \"popularity,\" \"poster_path,\" \"title,\" \"vote_average,\" \"vote_count,\" \"release_date,\" \"id,\" and \"genre_ids.\" The third data set contains the RGB pixels of each movie poster. These two data sets are linked using \"id.\"\n",
    "\n",
    "- What does your choice of Y look like?\n",
    "\n",
    "Our choice of Y is a list of genre labels. \n",
    "\n",
    "- Which features do you choose for X and why? \n",
    "\n",
    "We chose \"overview,\" \"popularity,\" \"title,\" \"vote_average,\" \"vote_count,\" and \"release_date.\" We are going to do text analysis on the overview data because the plots of the movies are probably indicative of movie genres. The other genres are there because they could also convey information about the movie genres. For example, actions movies probably tend to be more popular and have higher \"vote_average.\"\n",
    "\n",
    "- How do you sample your data, how many samples, and why?\n",
    "\n",
    "For the first dataset, we used the GET /discover/movie method to get 2000 movies with English as its original language. The GET /discover/movie method returns 1000 pages with 20 movie objects on each page. We picked the first page and 99 other pages by random, and grab all 20 movie objects on each of those 100 pages.\n",
    "\n",
    "For the second dataset, we used the /discover/movie method to get 80 movies from every genre, 20 each from the years 2013, 2014, 2015, 2016. We then deleted the duplicates according to movie ids and ended up with 976 movies. This is a more balanced dataset. \n"
   ]
  },
  {
   "cell_type": "code",
   "execution_count": null,
   "metadata": {
    "collapsed": true,
    "deletable": true,
    "editable": true
   },
   "outputs": [],
   "source": []
  }
 ],
 "metadata": {
  "kernelspec": {
   "display_name": "Python [Root]",
   "language": "python",
   "name": "Python [Root]"
  },
  "language_info": {
   "codemirror_mode": {
    "name": "ipython",
    "version": 2
   },
   "file_extension": ".py",
   "mimetype": "text/x-python",
   "name": "python",
   "nbconvert_exporter": "python",
   "pygments_lexer": "ipython2",
   "version": "2.7.12"
  }
 },
 "nbformat": 4,
 "nbformat_minor": 0
}
